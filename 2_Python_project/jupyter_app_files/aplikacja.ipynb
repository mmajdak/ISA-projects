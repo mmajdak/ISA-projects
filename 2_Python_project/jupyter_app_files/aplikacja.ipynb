{
 "cells": [
  {
   "cell_type": "markdown",
   "id": "bca25d29",
   "metadata": {},
   "source": [
    "## Przygotowanie danych"
   ]
  },
  {
   "cell_type": "code",
   "execution_count": null,
   "id": "9954ec44",
   "metadata": {},
   "outputs": [],
   "source": [
    "import pandas as pd\n",
    "import numpy as np\n",
    "import matplotlib.pyplot as plt\n",
    "import os\n",
    "import ipywidgets as widgets\n",
    "from IPython.display import display\n",
    "from IPython.display import Image"
   ]
  },
  {
   "cell_type": "code",
   "execution_count": null,
   "id": "b64c7605",
   "metadata": {},
   "outputs": [],
   "source": [
    "file = \"ks_projects_201801.csv\"\n",
    "filepath = os.path.join(os.path.abspath(\"\"), file)"
   ]
  },
  {
   "cell_type": "code",
   "execution_count": null,
   "id": "e7060868",
   "metadata": {},
   "outputs": [],
   "source": [
    "df = pd.read_csv(filepath)"
   ]
  },
  {
   "cell_type": "code",
   "execution_count": null,
   "id": "42bf6ec3",
   "metadata": {
    "scrolled": true
   },
   "outputs": [],
   "source": [
    "# Usunięcie wartości NaN\n",
    "df = df.dropna()\n",
    "\n",
    "# Ujednolicenie kolumn z datami, przekształcenie na format datetime\n",
    "df['deadline_new'] = pd.to_datetime(df['deadline']).dt.date\n",
    "df['launched_new'] = pd.to_datetime(df['launched']).dt.date\n",
    "\n",
    "# Obliczenie czasu trwania projektów, oczyszczenie danych - przekształcenie na typ int\n",
    "df['duration'] = df['deadline_new'] - df['launched_new']\n",
    "df['duration'] = df['duration'].map(lambda x: int(str(x).split(\" \")[0]))\n",
    "\n",
    "# Wyodrębnienie dwóch stanów projektów: successful = 1, pozostałe = 0\n",
    "df[\"state_new\"] = df[\"state\"].map(lambda x: 1 if x == \"successful\" else 0 )\n",
    "\n",
    "# Usunięcie niepotrzebnych kolumn\n",
    "to_drop = [\"currency\",\n",
    "           \"deadline\",\n",
    "           \"goal\",\n",
    "           \"launched\",\n",
    "           \"pledged\",\n",
    "           \"state\",\n",
    "           \"usd pledged\"]\n",
    "\n",
    "df.drop(to_drop, inplace=True, axis=1)\n",
    "\n",
    "# Połączenie Luksemburga, Belgii i Holandii w Beneluks\n",
    "\n",
    "df[\"country\"] = df[\"country\"].replace([\"LU\", \"BE\"],\"NL\")\n",
    "\n",
    "# Odrzucenie krajów, w których liczba projektów jest poniżej 1000\n",
    "\n",
    "df = df[(df[\"country\"] != \"SG\") \n",
    "        & (df[\"country\"] != \"JP\") \n",
    "        & (df[\"country\"] != \"AT\") \n",
    "        & (df[\"country\"] != \"HK\")\n",
    "        & (df[\"country\"] != \"NO\")\n",
    "        & (df[\"country\"] != \"CH\")\n",
    "        & (df[\"country\"] != \"IE\")]\n",
    "\n",
    "# Wyodrębnienie roku i miesiąca z danych \n",
    "\n",
    "df['year_launched'] = pd.DatetimeIndex(df['launched_new']).year\n",
    "df['month_launched'] = pd.DatetimeIndex(df['launched_new']).month\n",
    "\n",
    "# Usunięcie rekordów z 1970 roku\n",
    "\n",
    "df = df[df[\"year_launched\"] != 1970]\n",
    "\n",
    "df.head()"
   ]
  },
  {
   "cell_type": "markdown",
   "id": "f336bb18",
   "metadata": {},
   "source": [
    "## Wybór kraju"
   ]
  },
  {
   "cell_type": "code",
   "execution_count": null,
   "id": "fc3c1640",
   "metadata": {},
   "outputs": [],
   "source": [
    "choice_widget = widgets.Dropdown(\n",
    "                    layout={'width': 'max-content'}, \n",
    "                    options=[(\"Australia\",'AU'),(\"Benelux\",'NL'),(\"Canada\",'CA'),(\"Denmark\",'DK'),(\"France\",'FR'),(\"Germany\",'DE'),(\"Great Britain\",'GB'),(\"Itlay\",'IT'),(\"Mexico\",'MX'),(\"New Zealand\",'NZ'),(\"Spain\",'ES'),(\"Sweden\",'SE'),(\"United States\",'US')],\n",
    "                    description='Select country:',\n",
    "                    style={'description_width': 'initial'})\n",
    "\n",
    "choice_widget"
   ]
  },
  {
   "cell_type": "code",
   "execution_count": null,
   "id": "d60da880",
   "metadata": {
    "scrolled": true
   },
   "outputs": [],
   "source": [
    "cf = df[df['country']==choice_widget.value]\n",
    "cf"
   ]
  },
  {
   "cell_type": "markdown",
   "id": "d0d4eb32",
   "metadata": {},
   "source": [
    "## Czy użytkownik chce poznać szanse na sfinansowanie swojego projektu?"
   ]
  },
  {
   "cell_type": "code",
   "execution_count": null,
   "id": "033db1ff",
   "metadata": {},
   "outputs": [],
   "source": [
    "yes_no_widget = widgets.ToggleButtons(\n",
    "                    options=[\"Yes\", \"No\"],\n",
    "                    description=\"Do you want to know what are the chances for your project to succeed?\",\n",
    "                    disabled=False,\n",
    "                    style={\"description_width\": \"initial\"},\n",
    "                    button_style=\"info\", # 'success', 'info', 'warning', 'danger' or ''\n",
    "                    tooltips=[\"Yes, I do\", \"No, I don't\"],\n",
    "                )\n",
    "yes_no_widget"
   ]
  },
  {
   "cell_type": "markdown",
   "id": "ead32cd3",
   "metadata": {},
   "source": [
    "## Wybór parametrów projektu przez użytkownika"
   ]
  },
  {
   "cell_type": "markdown",
   "id": "c415b7e4",
   "metadata": {},
   "source": [
    "### 1. Kategoria"
   ]
  },
  {
   "cell_type": "code",
   "execution_count": null,
   "id": "06d3b98e",
   "metadata": {},
   "outputs": [],
   "source": [
    "main_cat = list(cf[\"main_category\"].unique())\n",
    "main_cat_widget = widgets.Dropdown(\n",
    "                    options=main_cat,\n",
    "                    value=main_cat[0],\n",
    "                    description=\"Main category in {}\".format(choice_widget.value),\n",
    "                    style={\"description_width\": \"initial\"},\n",
    "                    disabled=False,\n",
    "                )\n",
    "main_cat_widget"
   ]
  },
  {
   "cell_type": "markdown",
   "id": "04c0cbc4",
   "metadata": {},
   "source": [
    "### 2. Podkategoria"
   ]
  },
  {
   "cell_type": "code",
   "execution_count": null,
   "id": "660bb765",
   "metadata": {},
   "outputs": [],
   "source": [
    "main_cat_select = cf[cf[\"main_category\"] == main_cat_widget.value]\n",
    "cat = list(main_cat_select[\"category\"].unique())\n",
    "\n",
    "cat_widget = widgets.Dropdown(\n",
    "                options=cat,\n",
    "                value=cat[0],\n",
    "                description=\"Category\",\n",
    "                style={\"description_width\": \"initial\"},\n",
    "                disabled=False,\n",
    "            )\n",
    "cat_widget"
   ]
  },
  {
   "cell_type": "markdown",
   "id": "7755d1e9",
   "metadata": {},
   "source": [
    "### 3. Czas trwania zbiórki"
   ]
  },
  {
   "cell_type": "code",
   "execution_count": null,
   "id": "239b5225",
   "metadata": {},
   "outputs": [],
   "source": [
    "duration_widget = widgets.IntSlider(\n",
    "                    value=0,\n",
    "                    min=cf[\"duration\"].min(),\n",
    "                    max=cf[\"duration\"].max(),\n",
    "                    step=1,\n",
    "                    description= \"How many days is the fundraising going to last?\",\n",
    "                    disabled=False,\n",
    "                    continuous_update=False,\n",
    "                    orientation=\"horizontal\",\n",
    "#                     style={\"description_width\": \"initial\"},\n",
    "#                     layout={'width': 'max-content'},\n",
    "#                     readout=True,\n",
    "#                     readout_format=\"d\"\n",
    "                )\n",
    "\n",
    "duration_widget"
   ]
  },
  {
   "cell_type": "markdown",
   "id": "0816996d",
   "metadata": {},
   "source": [
    "### 4. Kwota zbiórki"
   ]
  },
  {
   "cell_type": "code",
   "execution_count": null,
   "id": "ee9767e0",
   "metadata": {},
   "outputs": [],
   "source": [
    "money_widget = widgets.FloatText(\n",
    "                    value=10,\n",
    "                    description=\"How much money do you want to collect?($)\",\n",
    "                    style={\"description_width\": \"initial\"},\n",
    "                    layout={'width': 'max-content'},\n",
    "                    disabled=False\n",
    "                )\n",
    "\n",
    "money_widget"
   ]
  },
  {
   "cell_type": "markdown",
   "id": "7bb1d0aa",
   "metadata": {},
   "source": [
    "## Oszacowanie prawdopodobieństwa, że projekt złożony w wybranej kategorii zostanie sfinansowany"
   ]
  },
  {
   "cell_type": "code",
   "execution_count": null,
   "id": "4ed0b1ba",
   "metadata": {},
   "outputs": [],
   "source": [
    "# Projekty, które zostały sfinansowane w wybranej kategorii\n",
    "\n",
    "mcat_s = cf[(cf[\"main_category\"] == main_cat_widget.value) & (cf[\"state_new\"] == 1)]\n",
    "\n",
    "# Projekty, które zostały sfinansowane w pozostałych kategoriach\n",
    "\n",
    "no_mcat_s = cf[(cf[\"main_category\"] != main_cat_widget.value) & (cf[\"state_new\"] == 1)]\n",
    "\n",
    "# Projekty, które NIE zostały sfinansowane w wybranej kategorii\n",
    "\n",
    "mcat_no_s = cf[(cf[\"main_category\"] == main_cat_widget.value) & (cf[\"state_new\"] == 0)]\n",
    "\n",
    "# Projekty, które NIE zostały sfinansowane w pozostałych kategoriach\n",
    "\n",
    "no_mcat_no_s = cf[(cf[\"main_category\"] != main_cat_widget.value) & (cf[\"state_new\"] == 0)]\n",
    "\n",
    "# Prawdopodobieństwo, że projekt uzyska finansowanie pod warunkiem, że został złożony w określonej kategorii\n",
    "\n",
    "prob_main_category = 100 * mcat_s[\"state_new\"].count() / (mcat_s[\"state_new\"].count() + mcat_no_s[\"state_new\"].count())\n",
    "print(f\"Probability of funding for main category {main_cat_widget.value}: {prob_main_category:.1f} %\")"
   ]
  },
  {
   "cell_type": "markdown",
   "id": "47743d04",
   "metadata": {},
   "source": [
    "## Oszacowanie prawdopodobieństwa, że projekt złożony w danej podkategorii zostanie sfinansowany"
   ]
  },
  {
   "cell_type": "code",
   "execution_count": null,
   "id": "f6aafbff",
   "metadata": {},
   "outputs": [],
   "source": [
    "# Projekty, które zostały sfinansowane w wybranej podkategorii\n",
    "\n",
    "cat_s = cf[(cf[\"category\"] == cat_widget.value) & (cf[\"state_new\"] == 1)]\n",
    "\n",
    "# Projekty, które zostały sfinansowane w pozostałych podkategoriach\n",
    "\n",
    "no_cat_s = cf[(cf[\"category\"] != cat_widget.value) & (cf[\"state_new\"] == 1)]\n",
    "\n",
    "# Projekty, które NIE zostały sfinansowane w wybranej podkategorii\n",
    "\n",
    "cat_no_s = cf[(cf[\"category\"] == cat_widget.value) & (cf[\"state_new\"] == 0)]\n",
    "\n",
    "# Projekty, które NIE zostały sfinansowane w pozostałych podkategoriach\n",
    "\n",
    "no_cat_no_s = cf[(cf[\"category\"] != cat_widget.value) & (cf[\"state_new\"] == 0)]\n",
    "\n",
    "# Prawdopodobieństwo, że projekt uzyska finansowanie pod warunkiem, że został złożony w określonej podkategorii\n",
    "\n",
    "prob_category = 100 * cat_s[\"state_new\"].count() / (cat_s[\"state_new\"].count() + cat_no_s[\"state_new\"].count())\n",
    "print(f\"Probability of funding for category {cat_widget.value}: {prob_category:.1f} %\")"
   ]
  },
  {
   "cell_type": "markdown",
   "id": "f6d101ad",
   "metadata": {},
   "source": [
    "## Oszacowanie prawdopodobieństwa uzyskania finansowania projektu w zależności od długości trwania zbiórki"
   ]
  },
  {
   "cell_type": "code",
   "execution_count": null,
   "id": "13e0e1fe",
   "metadata": {},
   "outputs": [],
   "source": [
    "interval_list = [(0, 10), (10, 20), (20, 30), (30, 40), (40, 50), (50, 60), (60, 70), (70, 80), (80, 90), (90, 100)]\n",
    "\n",
    "\n",
    "for start, stop in interval_list:\n",
    "\n",
    "    # Sprawdzenie, w którym przedziale znajduje się wartość podana przez użytkownika\n",
    "    if duration_widget.value > start and duration_widget.value <= stop:\n",
    "\n",
    "        # Projekty, które zostały sfinansowane w wybranym przedziale czasowym\n",
    "        dur_s = cf[ (cf[\"duration\"] > start) & (cf[\"duration\"] <= stop) & (cf[\"state_new\"] == 1) ]\n",
    "\n",
    "        # Projekty, które NIE zostały sfinansowane w wybranym przedziale czasowym\n",
    "        dur_no_s = cf[ (cf[\"duration\"] > start) & (cf[\"duration\"] <= stop) & (cf[\"state_new\"] == 0) ]\n",
    "\n",
    "        # Prawdopodobieństwo, że projekt uzyska finansowanie pod warunkiem, że czas zbiórki jest w określonym przedziale\n",
    "        prob_duration = 100 * dur_s[\"state_new\"].count() / (dur_s[\"state_new\"].count() + dur_no_s[\"state_new\"].count())\n",
    "\n",
    "        print(f\"Probability of funding for project duration {duration_widget.value} days: {prob_duration:.1f} %\")\n",
    "    "
   ]
  },
  {
   "cell_type": "markdown",
   "id": "b4ff60f4",
   "metadata": {},
   "source": [
    "## Oszacowanie prawdopodobieństwa uzyskania finansowania projektu w zależności od deklarowanej kwoty"
   ]
  },
  {
   "cell_type": "code",
   "execution_count": null,
   "id": "dadd3dd4",
   "metadata": {},
   "outputs": [],
   "source": [
    "amount_list = list(cf[\"usd_goal_real\"].quantile([0.2, 0.4, 0.6, 0.8]))\n",
    "print(amount_list)\n",
    "\n",
    "    \n",
    "if money_widget.value < amount_list[0]:\n",
    "        \n",
    "    amount_s = cf[ (cf[\"usd_goal_real\"] < amount_list[0]) & (cf[\"state_new\"] == 1) ]\n",
    "    amount_no_s = cf[ (cf[\"usd_goal_real\"] < amount_list[0]) & (cf[\"state_new\"] == 0) ]\n",
    "    prob_amount = 100 * amount_s[\"state_new\"].count() / (amount_s[\"state_new\"].count() + amount_no_s[\"state_new\"].count())\n",
    "        \n",
    "    print(f\"Probability of funding for declared amount {money_widget.value} $: {prob_amount:.1f} %\")\n",
    "        \n",
    "elif money_widget.value >= amount_list[0] and money_widget.value < amount_list[1]:\n",
    "        \n",
    "    amount_s = cf[ (cf[\"usd_goal_real\"] >= amount_list[0]) & (cf[\"usd_goal_real\"] < amount_list[1]) & (cf[\"state_new\"] == 1)]\n",
    "    amount_no_s = cf[ (cf[\"usd_goal_real\"] >= amount_list[0]) & (cf[\"usd_goal_real\"] < amount_list[1]) & (cf[\"state_new\"] == 0) ]\n",
    "    prob_amount = 100 * amount_s[\"state_new\"].count() / (amount_s[\"state_new\"].count() + amount_no_s[\"state_new\"].count())\n",
    "        \n",
    "    print(f\"Probability of funding for declared amount {money_widget.value} $: {prob_amount:.1f} %\")\n",
    "    \n",
    "elif money_widget.value >= amount_list[1] and money_widget.value < amount_list[2]:\n",
    "        \n",
    "    amount_s = cf[ (cf[\"usd_goal_real\"] >= amount_list[1]) & (cf[\"usd_goal_real\"] < amount_list[2]) & (cf[\"state_new\"] == 1)]\n",
    "    amount_no_s = cf[ (cf[\"usd_goal_real\"] >= amount_list[1]) & (cf[\"usd_goal_real\"] < amount_list[2]) & (cf[\"state_new\"] == 0) ]\n",
    "    prob_amount = 100 * amount_s[\"state_new\"].count() / (amount_s[\"state_new\"].count() + amount_no_s[\"state_new\"].count())\n",
    "        \n",
    "    print(f\"Probability of funding for declared amount {money_widget.value} $: {prob_amount:.1f} %\")\n",
    "    \n",
    "elif money_widget.value >= amount_list[2] and money_widget.value < amount_list[3]:\n",
    "        \n",
    "    amount_s = cf[ (cf[\"usd_goal_real\"] >= amount_list[2]) & (cf[\"usd_goal_real\"] < amount_list[3]) & (cf[\"state_new\"] == 1)]\n",
    "    amount_no_s = cf[ (cf[\"usd_goal_real\"] >= amount_list[2]) & (cf[\"usd_goal_real\"] < amount_list[3]) & (cf[\"state_new\"] == 0) ]\n",
    "    prob_amount = 100 * amount_s[\"state_new\"].count() / (amount_s[\"state_new\"].count() + amount_no_s[\"state_new\"].count())\n",
    "        \n",
    "    print(f\"Probability of funding for declared amount {money_widget.value} $: {prob_amount:.1f} %\")\n",
    "        \n",
    "elif money_widget.value >= amount_list[3]:\n",
    "        \n",
    "    amount_s = cf[(cf[\"usd_goal_real\"] >= amount_list[3]) & (cf[\"state_new\"] == 1)]\n",
    "    amount_no_s = cf[(cf[\"usd_goal_real\"] >= amount_list[3]) & (cf[\"state_new\"] == 0) ]\n",
    "    prob_amount = 100 * amount_s[\"state_new\"].count() / (amount_s[\"state_new\"].count() + amount_no_s[\"state_new\"].count())\n",
    "        \n",
    "    print(f\"Probability of funding for declared amount {money_widget.value} $: {prob_amount:.1f} %\")"
   ]
  },
  {
   "cell_type": "markdown",
   "id": "501bebce",
   "metadata": {},
   "source": [
    "## Oszacowanie całkowitego prawdopodobieństwa uzyskania finansowania (reguła łańcuchowa prawdopodobieństwa)"
   ]
  },
  {
   "cell_type": "code",
   "execution_count": null,
   "id": "a6fe1b12",
   "metadata": {},
   "outputs": [],
   "source": [
    "def total_prob():\n",
    "    interval_list = [(0, 10), (10, 20), (20, 30), (30, 40), (40, 50), (50, 60), (60, 70), (70, 80), (80, 90), (90, 100)]\n",
    "\n",
    "    for start, stop in interval_list:\n",
    "        if duration_widget.value > start and duration_widget.value <= stop:\n",
    "            a = start\n",
    "            b = stop\n",
    "        \n",
    "    amount_list = list(cf[\"usd_goal_real\"].quantile([0.2, 0.4, 0.6, 0.8]))\n",
    "   \n",
    "    if money_widget.value < amount_list[0]:\n",
    "        c = 0\n",
    "        d = amount_list[0]\n",
    "    elif money_widget.value >= amount_list[0] and money_widget.value < amount_list[1]:\n",
    "        c = amount_list[0]\n",
    "        d = amount_list[1]\n",
    "    elif money_widget.value >= amount_list[1] and money_widget.value < amount_list[2]:\n",
    "        c = amount_list[1]\n",
    "        d = amount_list[2]\n",
    "    elif money_widget.value >= amount_list[2] and money_widget.value < amount_list[3]:\n",
    "        c = amount_list[2]\n",
    "        d = amount_list[3]  \n",
    "    elif money_widget.value >= amount_list[3]:\n",
    "        c = amount_list[3]\n",
    "        d = 10000000000000000 \n",
    "\n",
    "\n",
    "    p_abcde = np.sum((cf[\"main_category\"] == main_cat_widget.value)\n",
    "                     & (cf[\"category\"] == cat_widget.value) \n",
    "                     & (cf[\"state_new\"] == 1)\n",
    "                     & (cf[\"duration\"] > a) & (cf[\"duration\"] <= b)\n",
    "                     & (cf[\"usd_goal_real\"] > c) & (cf[\"usd_goal_real\"] <= d)) / cf[\"ID\"].count()\n",
    "\n",
    "    p_abcd = np.sum((cf[\"main_category\"] == main_cat_widget.value) \n",
    "                     & (cf[\"category\"] == cat_widget.value) \n",
    "                     & (cf[\"duration\"] > a) & (cf[\"duration\"] <= b)\n",
    "                     & (cf[\"usd_goal_real\"] > c) & (cf[\"usd_goal_real\"] <= d)) / cf[\"ID\"].count()\n",
    "\n",
    "    if p_abcde == 0 or p_abcd == 0:\n",
    "        return(f\"The probability cannot be determined\")\n",
    "    else:\n",
    "        p = (p_abcde / p_abcd) * 100\n",
    "        return(f\"Probability of getting fund is {p:.1f} %\")"
   ]
  },
  {
   "cell_type": "markdown",
   "id": "ede3a9f0",
   "metadata": {},
   "source": [
    "## Odpowiedź dla użytkownika"
   ]
  },
  {
   "cell_type": "code",
   "execution_count": null,
   "id": "4641a43f",
   "metadata": {},
   "outputs": [],
   "source": [
    "if yes_no_widget.value == \"Yes\":\n",
    "    print(f\"Probability of funding for main category {main_cat_widget.value}: {prob_main_category:.1f} %\")\n",
    "    print()\n",
    "    print(f\"Probability of funding for category {cat_widget.value}: {prob_category:.1f} %\")\n",
    "    print()\n",
    "    print(f\"Probability of funding for project duration {duration_widget.value} days: {prob_duration:.1f} %\")\n",
    "    print()\n",
    "    print(f\"Probability of funding for declared amount {money_widget.value} $: {prob_amount:.1f} %\")\n",
    "    print()\n",
    "    print(total_prob())"
   ]
  },
  {
   "cell_type": "code",
   "execution_count": null,
   "id": "2861428d",
   "metadata": {},
   "outputs": [],
   "source": []
  }
 ],
 "metadata": {
  "kernelspec": {
   "display_name": "Python 3 (ipykernel)",
   "language": "python",
   "name": "python3"
  },
  "language_info": {
   "codemirror_mode": {
    "name": "ipython",
    "version": 3
   },
   "file_extension": ".py",
   "mimetype": "text/x-python",
   "name": "python",
   "nbconvert_exporter": "python",
   "pygments_lexer": "ipython3",
   "version": "3.9.7"
  }
 },
 "nbformat": 4,
 "nbformat_minor": 5
}
