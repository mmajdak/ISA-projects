{
 "cells": [
  {
   "cell_type": "code",
   "execution_count": 1,
   "id": "9f3353a5",
   "metadata": {},
   "outputs": [],
   "source": [
    "import pandas as pd\n",
    "import numpy as np\n",
    "import seaborn as sns\n",
    "import matplotlib.pyplot as plt\n",
    "from scipy import stats\n",
    "\n",
    "from sklearn.preprocessing import StandardScaler\n",
    "from sklearn.model_selection import train_test_split, StratifiedKFold, GridSearchCV, cross_val_score\n",
    "\n",
    "from sklearn.linear_model import LogisticRegression\n",
    "from sklearn.ensemble import RandomForestClassifier\n",
    "from sklearn.neighbors import KNeighborsClassifier\n",
    "import xgboost as xgb\n",
    "from sklearn.svm import SVC\n",
    "\n",
    "from imblearn.over_sampling import RandomOverSampler, SMOTE\n",
    "from imblearn.under_sampling import RandomUnderSampler\n",
    "from imblearn.pipeline import Pipeline\n",
    "\n",
    "from sklearn.metrics import confusion_matrix, classification_report, accuracy_score, roc_auc_score\n",
    "\n",
    "from collections import Counter"
   ]
  },
  {
   "cell_type": "code",
   "execution_count": 2,
   "id": "2d4a6b1d",
   "metadata": {},
   "outputs": [],
   "source": [
    "df = pd.read_csv('winequality-red.csv')"
   ]
  },
  {
   "cell_type": "code",
   "execution_count": 3,
   "id": "3ec656a7",
   "metadata": {},
   "outputs": [
    {
     "data": {
      "text/html": [
       "<div>\n",
       "<style scoped>\n",
       "    .dataframe tbody tr th:only-of-type {\n",
       "        vertical-align: middle;\n",
       "    }\n",
       "\n",
       "    .dataframe tbody tr th {\n",
       "        vertical-align: top;\n",
       "    }\n",
       "\n",
       "    .dataframe thead th {\n",
       "        text-align: right;\n",
       "    }\n",
       "</style>\n",
       "<table border=\"1\" class=\"dataframe\">\n",
       "  <thead>\n",
       "    <tr style=\"text-align: right;\">\n",
       "      <th></th>\n",
       "      <th>fixed acidity</th>\n",
       "      <th>volatile acidity</th>\n",
       "      <th>citric acid</th>\n",
       "      <th>residual sugar</th>\n",
       "      <th>chlorides</th>\n",
       "      <th>free sulfur dioxide</th>\n",
       "      <th>total sulfur dioxide</th>\n",
       "      <th>density</th>\n",
       "      <th>pH</th>\n",
       "      <th>sulphates</th>\n",
       "      <th>alcohol</th>\n",
       "      <th>quality</th>\n",
       "    </tr>\n",
       "  </thead>\n",
       "  <tbody>\n",
       "    <tr>\n",
       "      <th>0</th>\n",
       "      <td>7.4</td>\n",
       "      <td>0.70</td>\n",
       "      <td>0.00</td>\n",
       "      <td>1.9</td>\n",
       "      <td>0.076</td>\n",
       "      <td>11.0</td>\n",
       "      <td>34.0</td>\n",
       "      <td>0.9978</td>\n",
       "      <td>3.51</td>\n",
       "      <td>0.56</td>\n",
       "      <td>9.4</td>\n",
       "      <td>5</td>\n",
       "    </tr>\n",
       "    <tr>\n",
       "      <th>1</th>\n",
       "      <td>7.8</td>\n",
       "      <td>0.88</td>\n",
       "      <td>0.00</td>\n",
       "      <td>2.6</td>\n",
       "      <td>0.098</td>\n",
       "      <td>25.0</td>\n",
       "      <td>67.0</td>\n",
       "      <td>0.9968</td>\n",
       "      <td>3.20</td>\n",
       "      <td>0.68</td>\n",
       "      <td>9.8</td>\n",
       "      <td>5</td>\n",
       "    </tr>\n",
       "    <tr>\n",
       "      <th>2</th>\n",
       "      <td>7.8</td>\n",
       "      <td>0.76</td>\n",
       "      <td>0.04</td>\n",
       "      <td>2.3</td>\n",
       "      <td>0.092</td>\n",
       "      <td>15.0</td>\n",
       "      <td>54.0</td>\n",
       "      <td>0.9970</td>\n",
       "      <td>3.26</td>\n",
       "      <td>0.65</td>\n",
       "      <td>9.8</td>\n",
       "      <td>5</td>\n",
       "    </tr>\n",
       "    <tr>\n",
       "      <th>3</th>\n",
       "      <td>11.2</td>\n",
       "      <td>0.28</td>\n",
       "      <td>0.56</td>\n",
       "      <td>1.9</td>\n",
       "      <td>0.075</td>\n",
       "      <td>17.0</td>\n",
       "      <td>60.0</td>\n",
       "      <td>0.9980</td>\n",
       "      <td>3.16</td>\n",
       "      <td>0.58</td>\n",
       "      <td>9.8</td>\n",
       "      <td>6</td>\n",
       "    </tr>\n",
       "    <tr>\n",
       "      <th>4</th>\n",
       "      <td>7.4</td>\n",
       "      <td>0.70</td>\n",
       "      <td>0.00</td>\n",
       "      <td>1.9</td>\n",
       "      <td>0.076</td>\n",
       "      <td>11.0</td>\n",
       "      <td>34.0</td>\n",
       "      <td>0.9978</td>\n",
       "      <td>3.51</td>\n",
       "      <td>0.56</td>\n",
       "      <td>9.4</td>\n",
       "      <td>5</td>\n",
       "    </tr>\n",
       "  </tbody>\n",
       "</table>\n",
       "</div>"
      ],
      "text/plain": [
       "   fixed acidity  volatile acidity  citric acid  residual sugar  chlorides  \\\n",
       "0            7.4              0.70         0.00             1.9      0.076   \n",
       "1            7.8              0.88         0.00             2.6      0.098   \n",
       "2            7.8              0.76         0.04             2.3      0.092   \n",
       "3           11.2              0.28         0.56             1.9      0.075   \n",
       "4            7.4              0.70         0.00             1.9      0.076   \n",
       "\n",
       "   free sulfur dioxide  total sulfur dioxide  density    pH  sulphates  \\\n",
       "0                 11.0                  34.0   0.9978  3.51       0.56   \n",
       "1                 25.0                  67.0   0.9968  3.20       0.68   \n",
       "2                 15.0                  54.0   0.9970  3.26       0.65   \n",
       "3                 17.0                  60.0   0.9980  3.16       0.58   \n",
       "4                 11.0                  34.0   0.9978  3.51       0.56   \n",
       "\n",
       "   alcohol  quality  \n",
       "0      9.4        5  \n",
       "1      9.8        5  \n",
       "2      9.8        5  \n",
       "3      9.8        6  \n",
       "4      9.4        5  "
      ]
     },
     "execution_count": 3,
     "metadata": {},
     "output_type": "execute_result"
    }
   ],
   "source": [
    "df.head()"
   ]
  },
  {
   "cell_type": "code",
   "execution_count": 4,
   "id": "cc522a9d",
   "metadata": {
    "scrolled": true
   },
   "outputs": [
    {
     "data": {
      "image/png": "[encoded data removed]",
      "text/plain": [
       "<Figure size 432x288 with 1 Axes>"
      ]
     },
     "metadata": {
      "needs_background": "light"
     },
     "output_type": "display_data"
    }
   ],
   "source": [
    "sns.countplot(x=df.quality);"
   ]
  },
  {
   "cell_type": "code",
   "execution_count": 83,
   "id": "98712d32",
   "metadata": {},
   "outputs": [
    {
     "data": {
      "text/plain": [
       "5    681\n",
       "6    638\n",
       "7    199\n",
       "4     53\n",
       "8     18\n",
       "3     10\n",
       "Name: quality, dtype: int64"
      ]
     },
     "execution_count": 83,
     "metadata": {},
     "output_type": "execute_result"
    }
   ],
   "source": [
    "df.quality.value_counts()"
   ]
  },
  {
   "cell_type": "code",
   "execution_count": 84,
   "id": "cf7e1eaf",
   "metadata": {
    "scrolled": true
   },
   "outputs": [
    {
     "data": {
      "image/png": "[encoded data removed]",
      "text/plain": [
       "<Figure size 360x216 with 1 Axes>"
      ]
     },
     "metadata": {},
     "output_type": "display_data"
    },
    {
     "data": {
      "image/png": "[encoded data removed]",
      "text/plain": [
       "<Figure size 360x216 with 1 Axes>"
      ]
     },
     "metadata": {},
     "output_type": "display_data"
    },
    {
     "data": {
      "image/png": "[encoded data removed]",
      "text/plain": [
       "<Figure size 360x216 with 1 Axes>"
      ]
     },
     "metadata": {},
     "output_type": "display_data"
    },
    {
     "data": {
      "image/png": "[encoded data removed]",
      "text/plain": [
       "<Figure size 360x216 with 1 Axes>"
      ]
     },
     "metadata": {},
     "output_type": "display_data"
    },
    {
     "data": {
      "image/png": "[encoded data removed]",
      "text/plain": [
       "<Figure size 360x216 with 1 Axes>"
      ]
     },
     "metadata": {},
     "output_type": "display_data"
    },
    {
     "data": {
      "image/png": "[encoded data removed]",
      "text/plain": [
       "<Figure size 360x216 with 1 Axes>"
      ]
     },
     "metadata": {},
     "output_type": "display_data"
    },
    {
     "data": {
      "image/png": "[encoded data removed]",
      "text/plain": [
       "<Figure size 360x216 with 1 Axes>"
      ]
     },
     "metadata": {},
     "output_type": "display_data"
    },
    {
     "data": {
      "image/png": "[encoded data removed]",
      "text/plain": [
       "<Figure size 360x216 with 1 Axes>"
      ]
     },
     "metadata": {},
     "output_type": "display_data"
    },
    {
     "data": {
      "image/png": "[encoded data removed]",
      "text/plain": [
       "<Figure size 360x216 with 1 Axes>"
      ]
     },
     "metadata": {},
     "output_type": "display_data"
    },
    {
     "data": {
      "image/png": "[encoded data removed]",
      "text/plain": [
       "<Figure size 360x216 with 1 Axes>"
      ]
     },
     "metadata": {},
     "output_type": "display_data"
    },
    {
     "data": {
      "image/png": "[encoded data removed]",
      "text/plain": [
       "<Figure size 360x216 with 1 Axes>"
      ]
     },
     "metadata": {},
     "output_type": "display_data"
    }
   ],
   "source": [
    "# Boxploty\n",
    "\n",
    "sns.set_theme(style=\"whitegrid\")\n",
    "\n",
    "list_columns = list(df.drop(\"quality\", axis=1).columns)\n",
    "\n",
    "for column in list_columns:\n",
    "    f, ax = plt.subplots(figsize=(5, 3))\n",
    "    sns.boxplot(x=df[column], palette=\"vlag\")\n",
    "    ax.set_xlabel(column,fontsize=15)\n",
    "    ax.tick_params(labelsize=15);"
   ]
  },
  {
   "cell_type": "markdown",
   "id": "d4c3aed7",
   "metadata": {},
   "source": [
    "### Podział na zbiór treningowy i testowy"
   ]
  },
  {
   "cell_type": "code",
   "execution_count": 85,
   "id": "b3d96c5b",
   "metadata": {},
   "outputs": [
    {
     "data": {
      "text/plain": [
       "5    477\n",
       "6    446\n",
       "7    139\n",
       "4     37\n",
       "8     13\n",
       "3      7\n",
       "Name: quality, dtype: int64"
      ]
     },
     "execution_count": 85,
     "metadata": {},
     "output_type": "execute_result"
    }
   ],
   "source": [
    "# Podział na zbiór treningowy i testowy\n",
    "\n",
    "X = df.drop(\"quality\", axis=1)\n",
    "y = df.quality\n",
    "\n",
    "X_train, X_test, y_train, y_test = train_test_split(X, y, test_size=0.3, stratify = df.quality, random_state=0)\n",
    "y_train.value_counts()"
   ]
  },
  {
   "cell_type": "markdown",
   "id": "546a1ee4",
   "metadata": {},
   "source": [
    "### Oversampling / Undersampling"
   ]
  },
  {
   "cell_type": "code",
   "execution_count": 86,
   "id": "56426cf6",
   "metadata": {},
   "outputs": [
    {
     "name": "stdout",
     "output_type": "stream",
     "text": [
      "Oversampled: Counter({5: 477, 6: 446, 8: 177, 4: 177, 3: 177, 7: 139})\n",
      "Combined Random Sampling: Counter({5: 382, 6: 357, 3: 177, 4: 177, 8: 177, 7: 139})\n"
     ]
    }
   ],
   "source": [
    "# # instantiating over and under sampler with RandomSampler\n",
    "\n",
    "# over_strategy = {3: 177, 4: 177, 8: 177}                      # 50% średniej z 3 najliczniejszych klas\n",
    "# over = RandomOverSampler(sampling_strategy=over_strategy)\n",
    "\n",
    "# under_strategy = {5: 382, 6: 357}                             # 80% wartości każdej z dwóch najliczniejszych klas\n",
    "# under = RandomUnderSampler(sampling_strategy=under_strategy)\n",
    "\n",
    "# # first performing oversampling to minority class\n",
    "# X_over, y_over = over.fit_resample(X_train, y_train)\n",
    "# print(f\"Oversampled: {Counter(y_over)}\")\n",
    "\n",
    "# # now to comine under sampling \n",
    "# X_combined, y_combined = under.fit_resample(X_over, y_over)\n",
    "# print(f\"Combined Random Sampling: {Counter(y_combined)}\")"
   ]
  },
  {
   "cell_type": "code",
   "execution_count": 296,
   "id": "48a33393",
   "metadata": {},
   "outputs": [
    {
     "name": "stdout",
     "output_type": "stream",
     "text": [
      "Oversampled: Counter({5: 382, 6: 357, 3: 177, 4: 177, 8: 177, 7: 139})\n"
     ]
    }
   ],
   "source": [
    "# # instantiating over and under sampler with SMOTE\n",
    "\n",
    "# over_strategy = {3: 177, 4: 177, 8: 177}                      # 50% średniej z 3 najliczniejszych klas\n",
    "# over = SMOTE(sampling_strategy=over_strategy, random_state=20)\n",
    "\n",
    "# under_strategy = {5: 382, 6: 357}                             # 80% wartości każdej z dwóch najliczniejszych klas\n",
    "# under = RandomUnderSampler(sampling_strategy=under_strategy)\n",
    "\n",
    "# # now to comine over and under sampling\n",
    "# steps = [('o', over), ('u', under)]\n",
    "# pipeline = Pipeline(steps=steps)\n",
    "\n",
    "# X_combined, y_combined = pipeline.fit_resample(X_train, y_train)\n",
    "# print(f\"Oversampled: {Counter(y_combined)}\")"
   ]
  },
  {
   "cell_type": "code",
   "execution_count": 660,
   "id": "605dc62f",
   "metadata": {},
   "outputs": [],
   "source": [
    "over = {3: 377, 4: 377, 8: 377}  \n",
    "# instantiating over and under sampler                 \n",
    "over_strategy = SMOTE(sampling_strategy=over, random_state=20)\n",
    "\n",
    "X_combined, y_combined = over_strategy.fit_resample(X_train, y_train)"
   ]
  },
  {
   "cell_type": "code",
   "execution_count": 661,
   "id": "6d27a376",
   "metadata": {
    "scrolled": true
   },
   "outputs": [
    {
     "data": {
      "text/plain": [
       "5    477\n",
       "6    446\n",
       "8    377\n",
       "4    377\n",
       "3    377\n",
       "7    139\n",
       "Name: quality, dtype: int64"
      ]
     },
     "execution_count": 661,
     "metadata": {},
     "output_type": "execute_result"
    }
   ],
   "source": [
    "y_combined.value_counts()"
   ]
  },
  {
   "cell_type": "markdown",
   "id": "bc81552e",
   "metadata": {},
   "source": [
    "### Usuwanie outlier'ów"
   ]
  },
  {
   "cell_type": "code",
   "execution_count": 662,
   "id": "9fa377bd",
   "metadata": {
    "scrolled": true
   },
   "outputs": [
    {
     "data": {
      "image/png": "[encoded data removed]",
      "text/plain": [
       "<Figure size 360x216 with 1 Axes>"
      ]
     },
     "metadata": {},
     "output_type": "display_data"
    },
    {
     "data": {
      "image/png": "[encoded data removed]",
      "text/plain": [
       "<Figure size 360x216 with 1 Axes>"
      ]
     },
     "metadata": {},
     "output_type": "display_data"
    },
    {
     "data": {
      "image/png": "[encoded data removed]",
      "text/plain": [
       "<Figure size 360x216 with 1 Axes>"
      ]
     },
     "metadata": {},
     "output_type": "display_data"
    },
    {
     "data": {
      "image/png": "[encoded data removed]",
      "text/plain": [
       "<Figure size 360x216 with 1 Axes>"
      ]
     },
     "metadata": {},
     "output_type": "display_data"
    },
    {
     "data": {
      "image/png": "[encoded data removed]",
      "text/plain": [
       "<Figure size 360x216 with 1 Axes>"
      ]
     },
     "metadata": {},
     "output_type": "display_data"
    },
    {
     "data": {
      "image/png": "[encoded data removed]",
      "text/plain": [
       "<Figure size 360x216 with 1 Axes>"
      ]
     },
     "metadata": {},
     "output_type": "display_data"
    },
    {
     "data": {
      "image/png": "[encoded data removed]",
      "text/plain": [
       "<Figure size 360x216 with 1 Axes>"
      ]
     },
     "metadata": {},
     "output_type": "display_data"
    },
    {
     "data": {
      "image/png": "[encoded data removed]",
      "text/plain": [
       "<Figure size 360x216 with 1 Axes>"
      ]
     },
     "metadata": {},
     "output_type": "display_data"
    },
    {
     "data": {
      "image/png": "[encoded data removed]",
      "text/plain": [
       "<Figure size 360x216 with 1 Axes>"
      ]
     },
     "metadata": {},
     "output_type": "display_data"
    },
    {
     "data": {
      "image/png": "[encoded data removed]",
      "text/plain": [
       "<Figure size 360x216 with 1 Axes>"
      ]
     },
     "metadata": {},
     "output_type": "display_data"
    },
    {
     "data": {
      "image/png": "[encoded data removed]",
      "text/plain": [
       "<Figure size 360x216 with 1 Axes>"
      ]
     },
     "metadata": {},
     "output_type": "display_data"
    }
   ],
   "source": [
    "# Boxploty przed usunięciem outlier'ów\n",
    "\n",
    "sns.set_theme(style=\"whitegrid\")\n",
    "\n",
    "list_columns_comb = list(X_combined.columns)\n",
    "\n",
    "for column in list_columns_comb:\n",
    "    f, ax = plt.subplots(figsize=(5, 3))\n",
    "    sns.boxplot(x=X_combined[column], palette=\"vlag\")\n",
    "    ax.set_xlabel(column,fontsize=15)\n",
    "    ax.tick_params(labelsize=15);"
   ]
  },
  {
   "cell_type": "code",
   "execution_count": 663,
   "id": "ad3772fd",
   "metadata": {},
   "outputs": [],
   "source": [
    "# Usuwanie outlier'ów z zestawu treningowego\n",
    "\n",
    "def drop_outliers(dff, column):\n",
    "    iqr = np.percentile(dff[column], 75) - np.percentile(dff[column], 25)\n",
    "    dff.drop(dff[dff[column] < np.percentile(dff[column], 25) - 3.0 * iqr].index, inplace=True)\n",
    "    dff.drop(dff[dff[column] > np.percentile(dff[column], 75) + 3.0 * iqr].index, inplace=True)\n",
    "    return dff"
   ]
  },
  {
   "cell_type": "code",
   "execution_count": 664,
   "id": "36e59d61",
   "metadata": {
    "scrolled": true
   },
   "outputs": [
    {
     "data": {
      "text/html": [
       "<div>\n",
       "<style scoped>\n",
       "    .dataframe tbody tr th:only-of-type {\n",
       "        vertical-align: middle;\n",
       "    }\n",
       "\n",
       "    .dataframe tbody tr th {\n",
       "        vertical-align: top;\n",
       "    }\n",
       "\n",
       "    .dataframe thead th {\n",
       "        text-align: right;\n",
       "    }\n",
       "</style>\n",
       "<table border=\"1\" class=\"dataframe\">\n",
       "  <thead>\n",
       "    <tr style=\"text-align: right;\">\n",
       "      <th></th>\n",
       "      <th>fixed acidity</th>\n",
       "      <th>volatile acidity</th>\n",
       "      <th>citric acid</th>\n",
       "      <th>residual sugar</th>\n",
       "      <th>chlorides</th>\n",
       "      <th>free sulfur dioxide</th>\n",
       "      <th>total sulfur dioxide</th>\n",
       "      <th>density</th>\n",
       "      <th>pH</th>\n",
       "      <th>sulphates</th>\n",
       "      <th>alcohol</th>\n",
       "      <th>quality</th>\n",
       "    </tr>\n",
       "  </thead>\n",
       "  <tbody>\n",
       "    <tr>\n",
       "      <th>0</th>\n",
       "      <td>7.1</td>\n",
       "      <td>0.710</td>\n",
       "      <td>0.00</td>\n",
       "      <td>1.9</td>\n",
       "      <td>0.080</td>\n",
       "      <td>14.0</td>\n",
       "      <td>35.0</td>\n",
       "      <td>0.9972</td>\n",
       "      <td>3.47</td>\n",
       "      <td>0.55</td>\n",
       "      <td>9.4</td>\n",
       "      <td>5</td>\n",
       "    </tr>\n",
       "    <tr>\n",
       "      <th>1</th>\n",
       "      <td>7.2</td>\n",
       "      <td>0.650</td>\n",
       "      <td>0.02</td>\n",
       "      <td>2.3</td>\n",
       "      <td>0.094</td>\n",
       "      <td>5.0</td>\n",
       "      <td>31.0</td>\n",
       "      <td>0.9993</td>\n",
       "      <td>3.67</td>\n",
       "      <td>0.80</td>\n",
       "      <td>9.7</td>\n",
       "      <td>5</td>\n",
       "    </tr>\n",
       "    <tr>\n",
       "      <th>2</th>\n",
       "      <td>6.9</td>\n",
       "      <td>0.490</td>\n",
       "      <td>0.10</td>\n",
       "      <td>2.3</td>\n",
       "      <td>0.074</td>\n",
       "      <td>12.0</td>\n",
       "      <td>30.0</td>\n",
       "      <td>0.9959</td>\n",
       "      <td>3.42</td>\n",
       "      <td>0.58</td>\n",
       "      <td>10.2</td>\n",
       "      <td>6</td>\n",
       "    </tr>\n",
       "    <tr>\n",
       "      <th>3</th>\n",
       "      <td>10.7</td>\n",
       "      <td>0.350</td>\n",
       "      <td>0.53</td>\n",
       "      <td>2.6</td>\n",
       "      <td>0.070</td>\n",
       "      <td>5.0</td>\n",
       "      <td>16.0</td>\n",
       "      <td>0.9972</td>\n",
       "      <td>3.15</td>\n",
       "      <td>0.65</td>\n",
       "      <td>11.0</td>\n",
       "      <td>8</td>\n",
       "    </tr>\n",
       "    <tr>\n",
       "      <th>4</th>\n",
       "      <td>7.3</td>\n",
       "      <td>0.695</td>\n",
       "      <td>0.00</td>\n",
       "      <td>2.5</td>\n",
       "      <td>0.075</td>\n",
       "      <td>3.0</td>\n",
       "      <td>13.0</td>\n",
       "      <td>0.9980</td>\n",
       "      <td>3.49</td>\n",
       "      <td>0.52</td>\n",
       "      <td>9.2</td>\n",
       "      <td>5</td>\n",
       "    </tr>\n",
       "  </tbody>\n",
       "</table>\n",
       "</div>"
      ],
      "text/plain": [
       "   fixed acidity  volatile acidity  citric acid  residual sugar  chlorides  \\\n",
       "0            7.1             0.710         0.00             1.9      0.080   \n",
       "1            7.2             0.650         0.02             2.3      0.094   \n",
       "2            6.9             0.490         0.10             2.3      0.074   \n",
       "3           10.7             0.350         0.53             2.6      0.070   \n",
       "4            7.3             0.695         0.00             2.5      0.075   \n",
       "\n",
       "   free sulfur dioxide  total sulfur dioxide  density    pH  sulphates  \\\n",
       "0                 14.0                  35.0   0.9972  3.47       0.55   \n",
       "1                  5.0                  31.0   0.9993  3.67       0.80   \n",
       "2                 12.0                  30.0   0.9959  3.42       0.58   \n",
       "3                  5.0                  16.0   0.9972  3.15       0.65   \n",
       "4                  3.0                  13.0   0.9980  3.49       0.52   \n",
       "\n",
       "   alcohol  quality  \n",
       "0      9.4        5  \n",
       "1      9.7        5  \n",
       "2     10.2        6  \n",
       "3     11.0        8  \n",
       "4      9.2        5  "
      ]
     },
     "execution_count": 664,
     "metadata": {},
     "output_type": "execute_result"
    }
   ],
   "source": [
    "df_train = pd.concat([X_combined, y_combined], axis=1)\n",
    "df_train.head()"
   ]
  },
  {
   "cell_type": "code",
   "execution_count": 665,
   "id": "68b809c7",
   "metadata": {},
   "outputs": [
    {
     "data": {
      "text/plain": [
       "(2193, 12)"
      ]
     },
     "execution_count": 665,
     "metadata": {},
     "output_type": "execute_result"
    }
   ],
   "source": [
    "df_train.shape"
   ]
  },
  {
   "cell_type": "code",
   "execution_count": 666,
   "id": "5ede2f86",
   "metadata": {},
   "outputs": [
    {
     "data": {
      "image/png": "[encoded data removed]",
      "text/plain": [
       "<Figure size 360x216 with 1 Axes>"
      ]
     },
     "metadata": {},
     "output_type": "display_data"
    },
    {
     "data": {
      "image/png": "[encoded data removed]",
      "text/plain": [
       "<Figure size 360x216 with 1 Axes>"
      ]
     },
     "metadata": {},
     "output_type": "display_data"
    },
    {
     "data": {
      "image/png": "[encoded data removed]",
      "text/plain": [
       "<Figure size 360x216 with 1 Axes>"
      ]
     },
     "metadata": {},
     "output_type": "display_data"
    },
    {
     "data": {
      "image/png": "[encoded data removed]",
      "text/plain": [
       "<Figure size 360x216 with 1 Axes>"
      ]
     },
     "metadata": {},
     "output_type": "display_data"
    },
    {
     "data": {
      "image/png": "[encoded data removed]",
      "text/plain": [
       "<Figure size 360x216 with 1 Axes>"
      ]
     },
     "metadata": {},
     "output_type": "display_data"
    },
    {
     "data": {
      "image/png": "[encoded data removed]",
      "text/plain": [
       "<Figure size 360x216 with 1 Axes>"
      ]
     },
     "metadata": {},
     "output_type": "display_data"
    },
    {
     "data": {
      "image/png": "[encoded data removed]",
      "text/plain": [
       "<Figure size 360x216 with 1 Axes>"
      ]
     },
     "metadata": {},
     "output_type": "display_data"
    },
    {
     "data": {
      "image/png": "[encoded data removed]",
      "text/plain": [
       "<Figure size 360x216 with 1 Axes>"
      ]
     },
     "metadata": {},
     "output_type": "display_data"
    },
    {
     "data": {
      "image/png": "[encoded data removed]",
      "text/plain": [
       "<Figure size 360x216 with 1 Axes>"
      ]
     },
     "metadata": {},
     "output_type": "display_data"
    },
    {
     "data": {
      "image/png": "[encoded data removed]",
      "text/plain": [
       "<Figure size 360x216 with 1 Axes>"
      ]
     },
     "metadata": {},
     "output_type": "display_data"
    },
    {
     "data": {
      "image/png": "[encoded data removed]",
      "text/plain": [
       "<Figure size 360x216 with 1 Axes>"
      ]
     },
     "metadata": {},
     "output_type": "display_data"
    }
   ],
   "source": [
    "# Boxploty po usunięciu outlier'ów\n",
    "\n",
    "for column in list_columns:\n",
    "    drop_outliers(df_train, column=column)\n",
    "    \n",
    "    f, ax = plt.subplots(figsize=(5, 3))\n",
    "    sns.boxplot(x=df_train[column], palette=\"vlag\")\n",
    "    ax.set_xlabel(column,fontsize=15)\n",
    "    ax.tick_params(labelsize=15);"
   ]
  },
  {
   "cell_type": "code",
   "execution_count": 667,
   "id": "ba95f6b4",
   "metadata": {},
   "outputs": [
    {
     "data": {
      "text/plain": [
       "(1983, 12)"
      ]
     },
     "execution_count": 667,
     "metadata": {},
     "output_type": "execute_result"
    }
   ],
   "source": [
    "df_train.shape"
   ]
  },
  {
   "cell_type": "code",
   "execution_count": 668,
   "id": "116d07d9",
   "metadata": {},
   "outputs": [
    {
     "data": {
      "text/plain": [
       "5    427\n",
       "6    412\n",
       "8    377\n",
       "4    362\n",
       "3    277\n",
       "7    128\n",
       "Name: quality, dtype: int64"
      ]
     },
     "execution_count": 668,
     "metadata": {},
     "output_type": "execute_result"
    }
   ],
   "source": [
    "X_train_outlier = df_train.drop(\"quality\", axis=1)\n",
    "y_train_outlier = df_train.quality\n",
    "\n",
    "y_train_outlier.value_counts()"
   ]
  },
  {
   "cell_type": "code",
   "execution_count": 669,
   "id": "289dc512",
   "metadata": {},
   "outputs": [],
   "source": [
    "# Usuwanie outlier'ów z zestawu testowego (z wykorzystaniem iqr i percentyli z zestawu treningowego)\n",
    "\n",
    "def drop_outliers_test(df_train, df_test, column):\n",
    "    iqr = np.percentile(df_train[column], 75) - np.percentile(df_train[column], 25)\n",
    "    df_test.drop(df_test[df_test[column] < np.percentile(df_train[column], 25) - 3.0 * iqr].index, inplace=True)\n",
    "    df_test.drop(df_test[df_test[column] > np.percentile(df_train[column], 75) + 3.0 * iqr].index, inplace=True)\n",
    "    return df_test"
   ]
  },
  {
   "cell_type": "code",
   "execution_count": 670,
   "id": "e1389584",
   "metadata": {},
   "outputs": [
    {
     "data": {
      "text/plain": [
       "5    204\n",
       "6    192\n",
       "7     60\n",
       "4     16\n",
       "8      5\n",
       "3      3\n",
       "Name: quality, dtype: int64"
      ]
     },
     "execution_count": 670,
     "metadata": {},
     "output_type": "execute_result"
    }
   ],
   "source": [
    "# Sprawdzenie przed usunięciem\n",
    "\n",
    "y_test.value_counts()"
   ]
  },
  {
   "cell_type": "code",
   "execution_count": 671,
   "id": "2be56d82",
   "metadata": {
    "scrolled": false
   },
   "outputs": [
    {
     "data": {
      "text/html": [
       "<div>\n",
       "<style scoped>\n",
       "    .dataframe tbody tr th:only-of-type {\n",
       "        vertical-align: middle;\n",
       "    }\n",
       "\n",
       "    .dataframe tbody tr th {\n",
       "        vertical-align: top;\n",
       "    }\n",
       "\n",
       "    .dataframe thead th {\n",
       "        text-align: right;\n",
       "    }\n",
       "</style>\n",
       "<table border=\"1\" class=\"dataframe\">\n",
       "  <thead>\n",
       "    <tr style=\"text-align: right;\">\n",
       "      <th></th>\n",
       "      <th>fixed acidity</th>\n",
       "      <th>volatile acidity</th>\n",
       "      <th>citric acid</th>\n",
       "      <th>residual sugar</th>\n",
       "      <th>chlorides</th>\n",
       "      <th>free sulfur dioxide</th>\n",
       "      <th>total sulfur dioxide</th>\n",
       "      <th>density</th>\n",
       "      <th>pH</th>\n",
       "      <th>sulphates</th>\n",
       "      <th>alcohol</th>\n",
       "      <th>quality</th>\n",
       "    </tr>\n",
       "  </thead>\n",
       "  <tbody>\n",
       "    <tr>\n",
       "      <th>435</th>\n",
       "      <td>12.3</td>\n",
       "      <td>0.39</td>\n",
       "      <td>0.63</td>\n",
       "      <td>2.30</td>\n",
       "      <td>0.091</td>\n",
       "      <td>6.0</td>\n",
       "      <td>18.0</td>\n",
       "      <td>1.00040</td>\n",
       "      <td>3.16</td>\n",
       "      <td>0.49</td>\n",
       "      <td>9.5</td>\n",
       "      <td>5</td>\n",
       "    </tr>\n",
       "    <tr>\n",
       "      <th>125</th>\n",
       "      <td>9.0</td>\n",
       "      <td>0.62</td>\n",
       "      <td>0.04</td>\n",
       "      <td>1.90</td>\n",
       "      <td>0.146</td>\n",
       "      <td>27.0</td>\n",
       "      <td>90.0</td>\n",
       "      <td>0.99840</td>\n",
       "      <td>3.16</td>\n",
       "      <td>0.70</td>\n",
       "      <td>9.4</td>\n",
       "      <td>5</td>\n",
       "    </tr>\n",
       "    <tr>\n",
       "      <th>1245</th>\n",
       "      <td>7.4</td>\n",
       "      <td>0.55</td>\n",
       "      <td>0.19</td>\n",
       "      <td>1.80</td>\n",
       "      <td>0.082</td>\n",
       "      <td>15.0</td>\n",
       "      <td>34.0</td>\n",
       "      <td>0.99655</td>\n",
       "      <td>3.49</td>\n",
       "      <td>0.68</td>\n",
       "      <td>10.5</td>\n",
       "      <td>5</td>\n",
       "    </tr>\n",
       "    <tr>\n",
       "      <th>721</th>\n",
       "      <td>8.9</td>\n",
       "      <td>0.48</td>\n",
       "      <td>0.24</td>\n",
       "      <td>2.85</td>\n",
       "      <td>0.094</td>\n",
       "      <td>35.0</td>\n",
       "      <td>106.0</td>\n",
       "      <td>0.99820</td>\n",
       "      <td>3.10</td>\n",
       "      <td>0.53</td>\n",
       "      <td>9.2</td>\n",
       "      <td>5</td>\n",
       "    </tr>\n",
       "    <tr>\n",
       "      <th>289</th>\n",
       "      <td>11.6</td>\n",
       "      <td>0.42</td>\n",
       "      <td>0.53</td>\n",
       "      <td>3.30</td>\n",
       "      <td>0.105</td>\n",
       "      <td>33.0</td>\n",
       "      <td>98.0</td>\n",
       "      <td>1.00100</td>\n",
       "      <td>3.20</td>\n",
       "      <td>0.95</td>\n",
       "      <td>9.2</td>\n",
       "      <td>5</td>\n",
       "    </tr>\n",
       "  </tbody>\n",
       "</table>\n",
       "</div>"
      ],
      "text/plain": [
       "      fixed acidity  volatile acidity  citric acid  residual sugar  chlorides  \\\n",
       "435            12.3              0.39         0.63            2.30      0.091   \n",
       "125             9.0              0.62         0.04            1.90      0.146   \n",
       "1245            7.4              0.55         0.19            1.80      0.082   \n",
       "721             8.9              0.48         0.24            2.85      0.094   \n",
       "289            11.6              0.42         0.53            3.30      0.105   \n",
       "\n",
       "      free sulfur dioxide  total sulfur dioxide  density    pH  sulphates  \\\n",
       "435                   6.0                  18.0  1.00040  3.16       0.49   \n",
       "125                  27.0                  90.0  0.99840  3.16       0.70   \n",
       "1245                 15.0                  34.0  0.99655  3.49       0.68   \n",
       "721                  35.0                 106.0  0.99820  3.10       0.53   \n",
       "289                  33.0                  98.0  1.00100  3.20       0.95   \n",
       "\n",
       "      alcohol  quality  \n",
       "435       9.5        5  \n",
       "125       9.4        5  \n",
       "1245     10.5        5  \n",
       "721       9.2        5  \n",
       "289       9.2        5  "
      ]
     },
     "execution_count": 671,
     "metadata": {},
     "output_type": "execute_result"
    }
   ],
   "source": [
    "df_test = pd.concat([X_test, y_test], axis=1)\n",
    "df_test.head()"
   ]
  },
  {
   "cell_type": "code",
   "execution_count": 672,
   "id": "926fd3f5",
   "metadata": {},
   "outputs": [
    {
     "data": {
      "text/plain": [
       "(480, 12)"
      ]
     },
     "execution_count": 672,
     "metadata": {},
     "output_type": "execute_result"
    }
   ],
   "source": [
    "df_test.shape"
   ]
  },
  {
   "cell_type": "code",
   "execution_count": 673,
   "id": "0f986300",
   "metadata": {},
   "outputs": [
    {
     "data": {
      "text/plain": [
       "(2193, 12)"
      ]
     },
     "execution_count": 673,
     "metadata": {},
     "output_type": "execute_result"
    }
   ],
   "source": [
    "df_train_2 = pd.concat([X_combined, y_combined], axis=1)\n",
    "df_train_2.shape"
   ]
  },
  {
   "cell_type": "code",
   "execution_count": 674,
   "id": "08c70fdc",
   "metadata": {},
   "outputs": [],
   "source": [
    "for column in list_columns:\n",
    "    drop_outliers_test(df_train_2, df_test, column=column)"
   ]
  },
  {
   "cell_type": "code",
   "execution_count": 675,
   "id": "3ec590b7",
   "metadata": {},
   "outputs": [
    {
     "data": {
      "text/plain": [
       "(443, 12)"
      ]
     },
     "execution_count": 675,
     "metadata": {},
     "output_type": "execute_result"
    }
   ],
   "source": [
    "# Sprawdzenie po usunięciu\n",
    "\n",
    "df_test.shape"
   ]
  },
  {
   "cell_type": "code",
   "execution_count": 676,
   "id": "0b274cf7",
   "metadata": {},
   "outputs": [
    {
     "data": {
      "text/plain": [
       "5    186\n",
       "6    183\n",
       "7     53\n",
       "4     14\n",
       "8      4\n",
       "3      3\n",
       "Name: quality, dtype: int64"
      ]
     },
     "execution_count": 676,
     "metadata": {},
     "output_type": "execute_result"
    }
   ],
   "source": [
    "X_test_outlier = df_test.drop(\"quality\", axis=1)\n",
    "y_test_outlier = df_test.quality\n",
    "\n",
    "y_test_outlier.value_counts()"
   ]
  },
  {
   "cell_type": "markdown",
   "id": "285d86d8",
   "metadata": {},
   "source": [
    "### Normalizacja"
   ]
  },
  {
   "cell_type": "code",
   "execution_count": 677,
   "id": "0ceccbf3",
   "metadata": {},
   "outputs": [
    {
     "name": "stdout",
     "output_type": "stream",
     "text": [
      "[ 8.31462913  0.58121661  0.25613335  2.58229097  0.08071039 12.9106751\n",
      " 35.52847033  0.99667644  3.33612597  0.63482528 10.63526585] [1.64365885e+00 2.17841532e-01 2.05702823e-01 9.12972449e-01\n",
      " 1.77354292e-02 8.99652160e+00 2.62968943e+01 1.65861787e-03\n",
      " 1.55433786e-01 1.29853167e-01 1.12195529e+00]\n"
     ]
    }
   ],
   "source": [
    "# Normalizacja zestawu treningowego do rozkładu normalnego, wyznaczenie wartości średnich i odchyleń standardowych\n",
    "# https://stats.stackexchange.com/questions/174823/how-to-apply-standardization-normalization-to-train-and-testset-if-prediction-i\n",
    "\n",
    "scaler = StandardScaler()\n",
    "scaler.fit(X_train_outlier)\n",
    "\n",
    "X_train_std = scaler.transform(X_train_outlier)\n",
    "\n",
    "print(scaler.mean_, scaler.scale_)"
   ]
  },
  {
   "cell_type": "code",
   "execution_count": 678,
   "id": "e5283d49",
   "metadata": {},
   "outputs": [],
   "source": [
    "# Normalizacja zestawu testowego do rozkładu normalnego z wykorzystaniem wartości średnich i odch. std z zestawu treningowego\n",
    "\n",
    "X_test_std = scaler.transform(X_test_outlier)"
   ]
  },
  {
   "cell_type": "markdown",
   "id": "41d632f4",
   "metadata": {},
   "source": [
    "### KNN"
   ]
  },
  {
   "cell_type": "code",
   "execution_count": 680,
   "id": "38e10903",
   "metadata": {},
   "outputs": [],
   "source": [
    "skf = StratifiedKFold(n_splits=5, shuffle=True, random_state=12)"
   ]
  },
  {
   "cell_type": "code",
   "execution_count": 681,
   "id": "069fe215",
   "metadata": {},
   "outputs": [
    {
     "data": {
      "text/plain": [
       "array([0.91704684, 0.89569723, 0.91864565, 0.9007037 , 0.90933852])"
      ]
     },
     "execution_count": 681,
     "metadata": {},
     "output_type": "execute_result"
    }
   ],
   "source": [
    "# Model KNN\n",
    "\n",
    "model_KNN = KNeighborsClassifier()\n",
    "model_KNN.fit(X_train_std, y_train_outlier)\n",
    "\n",
    "cross_val_score(model_KNN, X_train_std, y_train_outlier, cv=skf, scoring=\"roc_auc_ovr\")"
   ]
  },
  {
   "cell_type": "code",
   "execution_count": 682,
   "id": "b1dc5012",
   "metadata": {},
   "outputs": [
    {
     "name": "stdout",
     "output_type": "stream",
     "text": [
      "Confusion matrix - tablica pomyłek\n",
      " [[277   0   0   0   0   0]\n",
      " [  0 358   2   2   0   0]\n",
      " [ 11  52 278  73   6   7]\n",
      " [  3  33  70 263  19  24]\n",
      " [  1   4  10  42  54  17]\n",
      " [  0   0   0   0   1 376]]\n",
      "Raport klasyfikacyjny: \n",
      "               precision    recall  f1-score   support\n",
      "\n",
      "           3       0.95      1.00      0.97       277\n",
      "           4       0.80      0.99      0.89       362\n",
      "           5       0.77      0.65      0.71       427\n",
      "           6       0.69      0.64      0.66       412\n",
      "           7       0.68      0.42      0.52       128\n",
      "           8       0.89      1.00      0.94       377\n",
      "\n",
      "    accuracy                           0.81      1983\n",
      "   macro avg       0.80      0.78      0.78      1983\n",
      "weighted avg       0.80      0.81      0.80      1983\n",
      "\n"
     ]
    }
   ],
   "source": [
    "y_pred_KNN_train = model_KNN.predict(X_train_std)\n",
    "\n",
    "print(\"Confusion matrix - tablica pomyłek\\n\", confusion_matrix(y_train_outlier, y_pred_KNN_train))\n",
    "\n",
    "print(\"Raport klasyfikacyjny: \\n\", classification_report(y_train_outlier, y_pred_KNN_train))"
   ]
  },
  {
   "cell_type": "code",
   "execution_count": 683,
   "id": "07225330",
   "metadata": {},
   "outputs": [
    {
     "data": {
      "text/plain": [
       "0.46275395033860045"
      ]
     },
     "execution_count": 683,
     "metadata": {},
     "output_type": "execute_result"
    }
   ],
   "source": [
    "model_KNN.score(X_test_std, y_test_outlier)"
   ]
  },
  {
   "cell_type": "code",
   "execution_count": 684,
   "id": "688a84bf",
   "metadata": {},
   "outputs": [
    {
     "name": "stdout",
     "output_type": "stream",
     "text": [
      "Confusion matrix - tablica pomyłek\n",
      " [[ 1  2  0  0  0  0]\n",
      " [ 3  5  2  4  0  0]\n",
      " [ 2 46 89 42  7  0]\n",
      " [ 4 25 38 91 12 13]\n",
      " [ 0  3  1 21 17 11]\n",
      " [ 0  0  0  1  1  2]]\n",
      "Raport klasyfikacyjny: \n",
      "               precision    recall  f1-score   support\n",
      "\n",
      "           3       0.10      0.33      0.15         3\n",
      "           4       0.06      0.36      0.11        14\n",
      "           5       0.68      0.48      0.56       186\n",
      "           6       0.57      0.50      0.53       183\n",
      "           7       0.46      0.32      0.38        53\n",
      "           8       0.08      0.50      0.13         4\n",
      "\n",
      "    accuracy                           0.46       443\n",
      "   macro avg       0.33      0.41      0.31       443\n",
      "weighted avg       0.58      0.46      0.51       443\n",
      "\n"
     ]
    }
   ],
   "source": [
    "y_pred_KNN = model_KNN.predict(X_test_std)\n",
    "\n",
    "print(\"Confusion matrix - tablica pomyłek\\n\", confusion_matrix(y_test_outlier, y_pred_KNN))\n",
    "\n",
    "print(\"Raport klasyfikacyjny: \\n\", classification_report(y_test_outlier, y_pred_KNN))"
   ]
  },
  {
   "cell_type": "code",
   "execution_count": 648,
   "id": "9c8b6247",
   "metadata": {},
   "outputs": [
    {
     "data": {
      "text/plain": [
       "GridSearchCV(cv=StratifiedKFold(n_splits=5, random_state=12, shuffle=True),\n",
       "             estimator=KNeighborsClassifier(), n_jobs=-1,\n",
       "             param_grid={'algorithm': ['auto'],\n",
       "                         'leaf_size': [1, 2, 3, 4, 5, 10, 20],\n",
       "                         'metric': ['minkowski'],\n",
       "                         'n_neighbors': [2, 3, 4, 5, 6, 7, 8, 9, 10, 11, 12, 13,\n",
       "                                         14, 15, 16, 17, 18, 19, 20, 21, 22, 23,\n",
       "                                         24, 25, 26, 27, 28, 29, 30],\n",
       "                         'p': [1, 2], 'weights': ['uniform']},\n",
       "             scoring='roc_auc_ovr')"
      ]
     },
     "execution_count": 648,
     "metadata": {},
     "output_type": "execute_result"
    }
   ],
   "source": [
    "# Dobór optymalnych parametrów dla modelu (ten etap jest powtarzany kilka razy żeby dobrać najlepsze zakresy)\n",
    "\n",
    "param_grid_KNN = {\n",
    "            \"n_neighbors\": list(range(2,31)),\n",
    "            \"weights\": [\"uniform\"],\n",
    "            \"metric\": [\"minkowski\"],\n",
    "            \"p\": [1, 2],\n",
    "            \"algorithm\": ['auto'],\n",
    "            \"leaf_size\": [1, 2, 3, 4, 5, 10, 20]\n",
    "             }\n",
    "\n",
    "grid_KNN = GridSearchCV(model_KNN, param_grid=param_grid_KNN, cv=skf, scoring=\"roc_auc_ovr\", verbose=0, n_jobs=-1)\n",
    "grid_KNN.fit(X_train_std, y_train_outlier)"
   ]
  },
  {
   "cell_type": "code",
   "execution_count": 649,
   "id": "0e0a6979",
   "metadata": {},
   "outputs": [
    {
     "name": "stdout",
     "output_type": "stream",
     "text": [
      "Najlepsze parametry:  {'algorithm': 'auto', 'leaf_size': 1, 'metric': 'minkowski', 'n_neighbors': 7, 'p': 1, 'weights': 'uniform'}\n",
      "Najwyższy score:  0.8958618469504842\n"
     ]
    }
   ],
   "source": [
    "print(\"Najlepsze parametry: \", grid_KNN.best_params_)\n",
    "print(\"Najwyższy score: \", grid_KNN.best_score_)"
   ]
  },
  {
   "cell_type": "code",
   "execution_count": 691,
   "id": "1ad857cd",
   "metadata": {},
   "outputs": [
    {
     "data": {
      "text/plain": [
       "array([0.9132119 , 0.90387079, 0.92582862, 0.90929457, 0.91931159])"
      ]
     },
     "execution_count": 691,
     "metadata": {},
     "output_type": "execute_result"
    }
   ],
   "source": [
    "# Zastosowanie najlepszych parametrów dla modelu\n",
    "\n",
    "model_KNN_best = KNeighborsClassifier(n_neighbors=8, p=1,)\n",
    "\n",
    "model_KNN_best.fit(X_train_std, y_train_outlier)\n",
    "\n",
    "cross_val_score(model_KNN_best, X_train_std, y_train_outlier, cv=skf, scoring=\"roc_auc_ovr\")"
   ]
  },
  {
   "cell_type": "code",
   "execution_count": 692,
   "id": "ff486694",
   "metadata": {
    "scrolled": true
   },
   "outputs": [
    {
     "data": {
      "text/plain": [
       "0.730200961445098"
      ]
     },
     "execution_count": 692,
     "metadata": {},
     "output_type": "execute_result"
    }
   ],
   "source": [
    "roc_auc_score(y_test_outlier, model_KNN_best.predict_proba(X_test_std), multi_class='ovr')"
   ]
  },
  {
   "cell_type": "code",
   "execution_count": 693,
   "id": "4a5ff0b6",
   "metadata": {},
   "outputs": [
    {
     "data": {
      "text/plain": [
       "0.7856782652546647"
      ]
     },
     "execution_count": 693,
     "metadata": {},
     "output_type": "execute_result"
    }
   ],
   "source": [
    "model_KNN_best.score(X_train_std, y_train_outlier)"
   ]
  },
  {
   "cell_type": "code",
   "execution_count": 694,
   "id": "2f03c264",
   "metadata": {},
   "outputs": [
    {
     "name": "stdout",
     "output_type": "stream",
     "text": [
      "Confusion matrix - tablica pomyłek\n",
      " [[ 1  2  0  0  0  0]\n",
      " [ 3  8  0  3  0  0]\n",
      " [ 5 47 98 30  4  2]\n",
      " [ 4 24 32 91  5 27]\n",
      " [ 0  3  5 17  9 19]\n",
      " [ 0  0  0  1  0  3]]\n",
      "Raport klasyfikacyjny: \n",
      "               precision    recall  f1-score   support\n",
      "\n",
      "           3       0.08      0.33      0.12         3\n",
      "           4       0.10      0.57      0.16        14\n",
      "           5       0.73      0.53      0.61       186\n",
      "           6       0.64      0.50      0.56       183\n",
      "           7       0.50      0.17      0.25        53\n",
      "           8       0.06      0.75      0.11         4\n",
      "\n",
      "    accuracy                           0.47       443\n",
      "   macro avg       0.35      0.47      0.30       443\n",
      "weighted avg       0.63      0.47      0.53       443\n",
      "\n"
     ]
    }
   ],
   "source": [
    "y_pred_KNN2 = model_KNN_best.predict(X_test_std)\n",
    "\n",
    "print(\"Confusion matrix - tablica pomyłek\\n\", confusion_matrix(y_test_outlier, y_pred_KNN2))\n",
    "\n",
    "print(\"Raport klasyfikacyjny: \\n\", classification_report(y_test_outlier, y_pred_KNN2, zero_division=1))"
   ]
  },
  {
   "cell_type": "code",
   "execution_count": 689,
   "id": "59fb8d31",
   "metadata": {},
   "outputs": [],
   "source": [
    "# Zależność accuracy od liczby sąsiadów\n",
    "\n",
    "train_acc = []\n",
    "test_acc = []\n",
    "\n",
    "for k in range(1, 30):\n",
    "    \n",
    "    knn = KNeighborsClassifier(n_neighbors=k, p=1)\n",
    "    knn.fit(X_train_std, y_train_outlier)\n",
    "    \n",
    "    preds = knn.predict(X_train_std)\n",
    "    score = cross_val_score(knn, X_train_std, y_train_outlier, cv=5, scoring=\"accuracy\")\n",
    "    train_acc.append(score.mean())\n",
    "    \n",
    "    preds2 = knn.predict(X_test_std)\n",
    "    score2 = knn.score(X_test_std, y_test_outlier)\n",
    "    test_acc.append(score2)"
   ]
  },
  {
   "cell_type": "code",
   "execution_count": 690,
   "id": "ffbd8ef0",
   "metadata": {},
   "outputs": [
    {
     "data": {
      "text/plain": [
       "<matplotlib.legend.Legend at 0x15690b4ef70>"
      ]
     },
     "execution_count": 690,
     "metadata": {},
     "output_type": "execute_result"
    },
    {
     "data": {
      "image/png": "[encoded data removed]",
      "text/plain": [
       "<Figure size 576x432 with 1 Axes>"
      ]
     },
     "metadata": {},
     "output_type": "display_data"
    }
   ],
   "source": [
    "plt.figure(figsize=(8, 6))\n",
    "plt.title('K vs Accuracy')\n",
    "plt.xlabel('K')\n",
    "plt.ylabel('Accuracy')\n",
    "plt.plot(range(1,30), train_acc, label='train acc')\n",
    "plt.plot(range(1,30), test_acc, label='test acc')\n",
    "plt.legend()"
   ]
  },
  {
   "cell_type": "markdown",
   "id": "3d40b8d4",
   "metadata": {},
   "source": [
    "### XgBoost"
   ]
  },
  {
   "cell_type": "code",
   "execution_count": 695,
   "id": "73e7a90d",
   "metadata": {},
   "outputs": [
    {
     "data": {
      "text/plain": [
       "array([0.94631442, 0.94986906, 0.96204237, 0.960742  , 0.95653619])"
      ]
     },
     "execution_count": 695,
     "metadata": {},
     "output_type": "execute_result"
    }
   ],
   "source": [
    "%%capture --no-display\n",
    "# XgBoost\n",
    "\n",
    "model_xgb = xgb.XGBClassifier(random_state=12)\n",
    "model_xgb.fit(X_train_std, y_train_outlier)\n",
    "\n",
    "cross_val_score(model_xgb, X_train_std, y_train_outlier, cv=skf, scoring=\"roc_auc_ovr\")"
   ]
  },
  {
   "cell_type": "code",
   "execution_count": 696,
   "id": "c9e2aaa4",
   "metadata": {},
   "outputs": [
    {
     "name": "stdout",
     "output_type": "stream",
     "text": [
      "Confusion matrix - tablica pomyłek\n",
      " [[277   0   0   0   0   0]\n",
      " [  0 362   0   0   0   0]\n",
      " [  0   0 427   0   0   0]\n",
      " [  0   0   0 412   0   0]\n",
      " [  0   0   0   0 128   0]\n",
      " [  0   0   0   0   0 377]]\n",
      "Raport klasyfikacyjny: \n",
      "               precision    recall  f1-score   support\n",
      "\n",
      "           3       1.00      1.00      1.00       277\n",
      "           4       1.00      1.00      1.00       362\n",
      "           5       1.00      1.00      1.00       427\n",
      "           6       1.00      1.00      1.00       412\n",
      "           7       1.00      1.00      1.00       128\n",
      "           8       1.00      1.00      1.00       377\n",
      "\n",
      "    accuracy                           1.00      1983\n",
      "   macro avg       1.00      1.00      1.00      1983\n",
      "weighted avg       1.00      1.00      1.00      1983\n",
      "\n"
     ]
    }
   ],
   "source": [
    "y_pred_xgb_train = model_xgb.predict(X_train_std)\n",
    "\n",
    "print(\"Confusion matrix - tablica pomyłek\\n\", confusion_matrix(y_train_outlier, y_pred_xgb_train))\n",
    "\n",
    "print(\"Raport klasyfikacyjny: \\n\", classification_report(y_train_outlier, y_pred_xgb_train))"
   ]
  },
  {
   "cell_type": "code",
   "execution_count": 697,
   "id": "e1a23d6f",
   "metadata": {},
   "outputs": [
    {
     "data": {
      "text/plain": [
       "0.823993566463349"
      ]
     },
     "execution_count": 697,
     "metadata": {},
     "output_type": "execute_result"
    }
   ],
   "source": [
    "roc_auc_score(y_test_outlier, model_xgb.predict_proba(X_test_std), multi_class=\"ovr\")"
   ]
  },
  {
   "cell_type": "code",
   "execution_count": 698,
   "id": "93fc155c",
   "metadata": {},
   "outputs": [
    {
     "data": {
      "text/plain": [
       "0.6410835214446953"
      ]
     },
     "execution_count": 698,
     "metadata": {},
     "output_type": "execute_result"
    }
   ],
   "source": [
    "model_xgb.score(X_test_std, y_test_outlier)"
   ]
  },
  {
   "cell_type": "code",
   "execution_count": 699,
   "id": "0d7f229a",
   "metadata": {},
   "outputs": [
    {
     "name": "stdout",
     "output_type": "stream",
     "text": [
      "Confusion matrix - tablica pomyłek\n",
      " [[  0   2   0   1   0   0]\n",
      " [  0   0   7   7   0   0]\n",
      " [  0  13 137  34   2   0]\n",
      " [  2   2  40 120   9  10]\n",
      " [  0   2   1  18  26   6]\n",
      " [  0   0   1   0   2   1]]\n",
      "Raport klasyfikacyjny: \n",
      "               precision    recall  f1-score   support\n",
      "\n",
      "           3       0.00      0.00      0.00         3\n",
      "           4       0.00      0.00      0.00        14\n",
      "           5       0.74      0.74      0.74       186\n",
      "           6       0.67      0.66      0.66       183\n",
      "           7       0.67      0.49      0.57        53\n",
      "           8       0.06      0.25      0.10         4\n",
      "\n",
      "    accuracy                           0.64       443\n",
      "   macro avg       0.35      0.36      0.34       443\n",
      "weighted avg       0.66      0.64      0.65       443\n",
      "\n"
     ]
    }
   ],
   "source": [
    "y_pred_xgb = model_xgb.predict(X_test_std)\n",
    "\n",
    "print(\"Confusion matrix - tablica pomyłek\\n\", confusion_matrix(y_test_outlier, y_pred_xgb))\n",
    "\n",
    "print(\"Raport klasyfikacyjny: \\n\", classification_report(y_test_outlier, y_pred_xgb))"
   ]
  },
  {
   "cell_type": "code",
   "execution_count": 700,
   "id": "2e3b6bbd",
   "metadata": {
    "collapsed": true
   },
   "outputs": [
    {
     "ename": "KeyboardInterrupt",
     "evalue": "",
     "output_type": "error",
     "traceback": [
      "\u001b[1;31m---------------------------------------------------------------------------\u001b[0m",
      "\u001b[1;31mKeyboardInterrupt\u001b[0m                         Traceback (most recent call last)",
      "\u001b[1;32m~\\AppData\\Local\\Temp/ipykernel_19880/1713308673.py\u001b[0m in \u001b[0;36m<module>\u001b[1;34m\u001b[0m\n\u001b[0;32m     16\u001b[0m \u001b[1;33m\u001b[0m\u001b[0m\n\u001b[0;32m     17\u001b[0m \u001b[0mgrid_xgb\u001b[0m \u001b[1;33m=\u001b[0m \u001b[0mGridSearchCV\u001b[0m\u001b[1;33m(\u001b[0m\u001b[0mmodel_xgb\u001b[0m\u001b[1;33m,\u001b[0m \u001b[0mparam_grid\u001b[0m\u001b[1;33m=\u001b[0m\u001b[0mparam_grid_xgb\u001b[0m\u001b[1;33m,\u001b[0m \u001b[0mcv\u001b[0m\u001b[1;33m=\u001b[0m\u001b[0mskf\u001b[0m\u001b[1;33m,\u001b[0m \u001b[0mscoring\u001b[0m\u001b[1;33m=\u001b[0m\u001b[1;34m\"roc_auc_ovr\"\u001b[0m\u001b[1;33m,\u001b[0m \u001b[0mverbose\u001b[0m\u001b[1;33m=\u001b[0m\u001b[1;36m0\u001b[0m\u001b[1;33m,\u001b[0m \u001b[0mn_jobs\u001b[0m\u001b[1;33m=\u001b[0m\u001b[1;33m-\u001b[0m\u001b[1;36m1\u001b[0m\u001b[1;33m)\u001b[0m\u001b[1;33m\u001b[0m\u001b[1;33m\u001b[0m\u001b[0m\n\u001b[1;32m---> 18\u001b[1;33m \u001b[0mgrid_xgb\u001b[0m\u001b[1;33m.\u001b[0m\u001b[0mfit\u001b[0m\u001b[1;33m(\u001b[0m\u001b[0mX_train_std\u001b[0m\u001b[1;33m,\u001b[0m \u001b[0my_train_outlier\u001b[0m\u001b[1;33m)\u001b[0m\u001b[1;33m\u001b[0m\u001b[1;33m\u001b[0m\u001b[0m\n\u001b[0m",
      "\u001b[1;32m~\\anaconda3\\envs\\isa\\lib\\site-packages\\sklearn\\model_selection\\_search.py\u001b[0m in \u001b[0;36mfit\u001b[1;34m(self, X, y, groups, **fit_params)\u001b[0m\n\u001b[0;32m    889\u001b[0m                 \u001b[1;32mreturn\u001b[0m \u001b[0mresults\u001b[0m\u001b[1;33m\u001b[0m\u001b[1;33m\u001b[0m\u001b[0m\n\u001b[0;32m    890\u001b[0m \u001b[1;33m\u001b[0m\u001b[0m\n\u001b[1;32m--> 891\u001b[1;33m             \u001b[0mself\u001b[0m\u001b[1;33m.\u001b[0m\u001b[0m_run_search\u001b[0m\u001b[1;33m(\u001b[0m\u001b[0mevaluate_candidates\u001b[0m\u001b[1;33m)\u001b[0m\u001b[1;33m\u001b[0m\u001b[1;33m\u001b[0m\u001b[0m\n\u001b[0m\u001b[0;32m    892\u001b[0m \u001b[1;33m\u001b[0m\u001b[0m\n\u001b[0;32m    893\u001b[0m             \u001b[1;31m# multimetric is determined here because in the case of a callable\u001b[0m\u001b[1;33m\u001b[0m\u001b[1;33m\u001b[0m\u001b[0m\n",
      "\u001b[1;32m~\\anaconda3\\envs\\isa\\lib\\site-packages\\sklearn\\model_selection\\_search.py\u001b[0m in \u001b[0;36m_run_search\u001b[1;34m(self, evaluate_candidates)\u001b[0m\n\u001b[0;32m   1390\u001b[0m     \u001b[1;32mdef\u001b[0m \u001b[0m_run_search\u001b[0m\u001b[1;33m(\u001b[0m\u001b[0mself\u001b[0m\u001b[1;33m,\u001b[0m \u001b[0mevaluate_candidates\u001b[0m\u001b[1;33m)\u001b[0m\u001b[1;33m:\u001b[0m\u001b[1;33m\u001b[0m\u001b[1;33m\u001b[0m\u001b[0m\n\u001b[0;32m   1391\u001b[0m         \u001b[1;34m\"\"\"Search all candidates in param_grid\"\"\"\u001b[0m\u001b[1;33m\u001b[0m\u001b[1;33m\u001b[0m\u001b[0m\n\u001b[1;32m-> 1392\u001b[1;33m         \u001b[0mevaluate_candidates\u001b[0m\u001b[1;33m(\u001b[0m\u001b[0mParameterGrid\u001b[0m\u001b[1;33m(\u001b[0m\u001b[0mself\u001b[0m\u001b[1;33m.\u001b[0m\u001b[0mparam_grid\u001b[0m\u001b[1;33m)\u001b[0m\u001b[1;33m)\u001b[0m\u001b[1;33m\u001b[0m\u001b[1;33m\u001b[0m\u001b[0m\n\u001b[0m\u001b[0;32m   1393\u001b[0m \u001b[1;33m\u001b[0m\u001b[0m\n\u001b[0;32m   1394\u001b[0m \u001b[1;33m\u001b[0m\u001b[0m\n",
      "\u001b[1;32m~\\anaconda3\\envs\\isa\\lib\\site-packages\\sklearn\\model_selection\\_search.py\u001b[0m in \u001b[0;36mevaluate_candidates\u001b[1;34m(candidate_params, cv, more_results)\u001b[0m\n\u001b[0;32m    836\u001b[0m                     )\n\u001b[0;32m    837\u001b[0m \u001b[1;33m\u001b[0m\u001b[0m\n\u001b[1;32m--> 838\u001b[1;33m                 out = parallel(\n\u001b[0m\u001b[0;32m    839\u001b[0m                     delayed(_fit_and_score)(\n\u001b[0;32m    840\u001b[0m                         \u001b[0mclone\u001b[0m\u001b[1;33m(\u001b[0m\u001b[0mbase_estimator\u001b[0m\u001b[1;33m)\u001b[0m\u001b[1;33m,\u001b[0m\u001b[1;33m\u001b[0m\u001b[1;33m\u001b[0m\u001b[0m\n",
      "\u001b[1;32m~\\anaconda3\\envs\\isa\\lib\\site-packages\\joblib\\parallel.py\u001b[0m in \u001b[0;36m__call__\u001b[1;34m(self, iterable)\u001b[0m\n\u001b[0;32m   1054\u001b[0m \u001b[1;33m\u001b[0m\u001b[0m\n\u001b[0;32m   1055\u001b[0m             \u001b[1;32mwith\u001b[0m \u001b[0mself\u001b[0m\u001b[1;33m.\u001b[0m\u001b[0m_backend\u001b[0m\u001b[1;33m.\u001b[0m\u001b[0mretrieval_context\u001b[0m\u001b[1;33m(\u001b[0m\u001b[1;33m)\u001b[0m\u001b[1;33m:\u001b[0m\u001b[1;33m\u001b[0m\u001b[1;33m\u001b[0m\u001b[0m\n\u001b[1;32m-> 1056\u001b[1;33m                 \u001b[0mself\u001b[0m\u001b[1;33m.\u001b[0m\u001b[0mretrieve\u001b[0m\u001b[1;33m(\u001b[0m\u001b[1;33m)\u001b[0m\u001b[1;33m\u001b[0m\u001b[1;33m\u001b[0m\u001b[0m\n\u001b[0m\u001b[0;32m   1057\u001b[0m             \u001b[1;31m# Make sure that we get a last message telling us we are done\u001b[0m\u001b[1;33m\u001b[0m\u001b[1;33m\u001b[0m\u001b[0m\n\u001b[0;32m   1058\u001b[0m             \u001b[0melapsed_time\u001b[0m \u001b[1;33m=\u001b[0m \u001b[0mtime\u001b[0m\u001b[1;33m.\u001b[0m\u001b[0mtime\u001b[0m\u001b[1;33m(\u001b[0m\u001b[1;33m)\u001b[0m \u001b[1;33m-\u001b[0m \u001b[0mself\u001b[0m\u001b[1;33m.\u001b[0m\u001b[0m_start_time\u001b[0m\u001b[1;33m\u001b[0m\u001b[1;33m\u001b[0m\u001b[0m\n",
      "\u001b[1;32m~\\anaconda3\\envs\\isa\\lib\\site-packages\\joblib\\parallel.py\u001b[0m in \u001b[0;36mretrieve\u001b[1;34m(self)\u001b[0m\n\u001b[0;32m    933\u001b[0m             \u001b[1;32mtry\u001b[0m\u001b[1;33m:\u001b[0m\u001b[1;33m\u001b[0m\u001b[1;33m\u001b[0m\u001b[0m\n\u001b[0;32m    934\u001b[0m                 \u001b[1;32mif\u001b[0m \u001b[0mgetattr\u001b[0m\u001b[1;33m(\u001b[0m\u001b[0mself\u001b[0m\u001b[1;33m.\u001b[0m\u001b[0m_backend\u001b[0m\u001b[1;33m,\u001b[0m \u001b[1;34m'supports_timeout'\u001b[0m\u001b[1;33m,\u001b[0m \u001b[1;32mFalse\u001b[0m\u001b[1;33m)\u001b[0m\u001b[1;33m:\u001b[0m\u001b[1;33m\u001b[0m\u001b[1;33m\u001b[0m\u001b[0m\n\u001b[1;32m--> 935\u001b[1;33m                     \u001b[0mself\u001b[0m\u001b[1;33m.\u001b[0m\u001b[0m_output\u001b[0m\u001b[1;33m.\u001b[0m\u001b[0mextend\u001b[0m\u001b[1;33m(\u001b[0m\u001b[0mjob\u001b[0m\u001b[1;33m.\u001b[0m\u001b[0mget\u001b[0m\u001b[1;33m(\u001b[0m\u001b[0mtimeout\u001b[0m\u001b[1;33m=\u001b[0m\u001b[0mself\u001b[0m\u001b[1;33m.\u001b[0m\u001b[0mtimeout\u001b[0m\u001b[1;33m)\u001b[0m\u001b[1;33m)\u001b[0m\u001b[1;33m\u001b[0m\u001b[1;33m\u001b[0m\u001b[0m\n\u001b[0m\u001b[0;32m    936\u001b[0m                 \u001b[1;32melse\u001b[0m\u001b[1;33m:\u001b[0m\u001b[1;33m\u001b[0m\u001b[1;33m\u001b[0m\u001b[0m\n\u001b[0;32m    937\u001b[0m                     \u001b[0mself\u001b[0m\u001b[1;33m.\u001b[0m\u001b[0m_output\u001b[0m\u001b[1;33m.\u001b[0m\u001b[0mextend\u001b[0m\u001b[1;33m(\u001b[0m\u001b[0mjob\u001b[0m\u001b[1;33m.\u001b[0m\u001b[0mget\u001b[0m\u001b[1;33m(\u001b[0m\u001b[1;33m)\u001b[0m\u001b[1;33m)\u001b[0m\u001b[1;33m\u001b[0m\u001b[1;33m\u001b[0m\u001b[0m\n",
      "\u001b[1;32m~\\anaconda3\\envs\\isa\\lib\\site-packages\\joblib\\_parallel_backends.py\u001b[0m in \u001b[0;36mwrap_future_result\u001b[1;34m(future, timeout)\u001b[0m\n\u001b[0;32m    540\u001b[0m         AsyncResults.get from multiprocessing.\"\"\"\n\u001b[0;32m    541\u001b[0m         \u001b[1;32mtry\u001b[0m\u001b[1;33m:\u001b[0m\u001b[1;33m\u001b[0m\u001b[1;33m\u001b[0m\u001b[0m\n\u001b[1;32m--> 542\u001b[1;33m             \u001b[1;32mreturn\u001b[0m \u001b[0mfuture\u001b[0m\u001b[1;33m.\u001b[0m\u001b[0mresult\u001b[0m\u001b[1;33m(\u001b[0m\u001b[0mtimeout\u001b[0m\u001b[1;33m=\u001b[0m\u001b[0mtimeout\u001b[0m\u001b[1;33m)\u001b[0m\u001b[1;33m\u001b[0m\u001b[1;33m\u001b[0m\u001b[0m\n\u001b[0m\u001b[0;32m    543\u001b[0m         \u001b[1;32mexcept\u001b[0m \u001b[0mCfTimeoutError\u001b[0m \u001b[1;32mas\u001b[0m \u001b[0me\u001b[0m\u001b[1;33m:\u001b[0m\u001b[1;33m\u001b[0m\u001b[1;33m\u001b[0m\u001b[0m\n\u001b[0;32m    544\u001b[0m             \u001b[1;32mraise\u001b[0m \u001b[0mTimeoutError\u001b[0m \u001b[1;32mfrom\u001b[0m \u001b[0me\u001b[0m\u001b[1;33m\u001b[0m\u001b[1;33m\u001b[0m\u001b[0m\n",
      "\u001b[1;32m~\\anaconda3\\envs\\isa\\lib\\concurrent\\futures\\_base.py\u001b[0m in \u001b[0;36mresult\u001b[1;34m(self, timeout)\u001b[0m\n\u001b[0;32m    438\u001b[0m                     \u001b[1;32mreturn\u001b[0m \u001b[0mself\u001b[0m\u001b[1;33m.\u001b[0m\u001b[0m__get_result\u001b[0m\u001b[1;33m(\u001b[0m\u001b[1;33m)\u001b[0m\u001b[1;33m\u001b[0m\u001b[1;33m\u001b[0m\u001b[0m\n\u001b[0;32m    439\u001b[0m \u001b[1;33m\u001b[0m\u001b[0m\n\u001b[1;32m--> 440\u001b[1;33m                 \u001b[0mself\u001b[0m\u001b[1;33m.\u001b[0m\u001b[0m_condition\u001b[0m\u001b[1;33m.\u001b[0m\u001b[0mwait\u001b[0m\u001b[1;33m(\u001b[0m\u001b[0mtimeout\u001b[0m\u001b[1;33m)\u001b[0m\u001b[1;33m\u001b[0m\u001b[1;33m\u001b[0m\u001b[0m\n\u001b[0m\u001b[0;32m    441\u001b[0m \u001b[1;33m\u001b[0m\u001b[0m\n\u001b[0;32m    442\u001b[0m                 \u001b[1;32mif\u001b[0m \u001b[0mself\u001b[0m\u001b[1;33m.\u001b[0m\u001b[0m_state\u001b[0m \u001b[1;32min\u001b[0m \u001b[1;33m[\u001b[0m\u001b[0mCANCELLED\u001b[0m\u001b[1;33m,\u001b[0m \u001b[0mCANCELLED_AND_NOTIFIED\u001b[0m\u001b[1;33m]\u001b[0m\u001b[1;33m:\u001b[0m\u001b[1;33m\u001b[0m\u001b[1;33m\u001b[0m\u001b[0m\n",
      "\u001b[1;32m~\\anaconda3\\envs\\isa\\lib\\threading.py\u001b[0m in \u001b[0;36mwait\u001b[1;34m(self, timeout)\u001b[0m\n\u001b[0;32m    310\u001b[0m         \u001b[1;32mtry\u001b[0m\u001b[1;33m:\u001b[0m    \u001b[1;31m# restore state no matter what (e.g., KeyboardInterrupt)\u001b[0m\u001b[1;33m\u001b[0m\u001b[1;33m\u001b[0m\u001b[0m\n\u001b[0;32m    311\u001b[0m             \u001b[1;32mif\u001b[0m \u001b[0mtimeout\u001b[0m \u001b[1;32mis\u001b[0m \u001b[1;32mNone\u001b[0m\u001b[1;33m:\u001b[0m\u001b[1;33m\u001b[0m\u001b[1;33m\u001b[0m\u001b[0m\n\u001b[1;32m--> 312\u001b[1;33m                 \u001b[0mwaiter\u001b[0m\u001b[1;33m.\u001b[0m\u001b[0macquire\u001b[0m\u001b[1;33m(\u001b[0m\u001b[1;33m)\u001b[0m\u001b[1;33m\u001b[0m\u001b[1;33m\u001b[0m\u001b[0m\n\u001b[0m\u001b[0;32m    313\u001b[0m                 \u001b[0mgotit\u001b[0m \u001b[1;33m=\u001b[0m \u001b[1;32mTrue\u001b[0m\u001b[1;33m\u001b[0m\u001b[1;33m\u001b[0m\u001b[0m\n\u001b[0;32m    314\u001b[0m             \u001b[1;32melse\u001b[0m\u001b[1;33m:\u001b[0m\u001b[1;33m\u001b[0m\u001b[1;33m\u001b[0m\u001b[0m\n",
      "\u001b[1;31mKeyboardInterrupt\u001b[0m: "
     ]
    }
   ],
   "source": [
    "%%capture --no-display\n",
    "# Dobór optymalnych parametrów dla modelu (ten etap jest powtarzany kilka razy żeby dobrać najlepsze zakresy)\n",
    "\n",
    "param_grid_xgb = {\n",
    "            \"n_estimators\": [100, 150, 200, 300, 400],\n",
    "            \"max_depth\": [2, 5, 10, 20, 30],\n",
    "            \"learning_rate\": [0.005, 0.01, 0.05, 0.1, 0.2],\n",
    "            \"booster\": [\"gbtree\", \"dart\"],\n",
    "            \"min_child_weight\": [1, 2, 4, 6],\n",
    "            \"subsample\": [0.5, 0.8],\n",
    "            \"colsample_bylevel\": [0.5, 0.8],\n",
    "            \"reg_alpha\": [1, 2, 5],\n",
    "            \"objective\": [\"multi:softmax\", \"reg:logistic\"],\n",
    "            \"num_class\": [6]\n",
    "    \n",
    "}\n",
    "\n",
    "grid_xgb = GridSearchCV(model_xgb, param_grid=param_grid_xgb, cv=skf, scoring=\"roc_auc_ovr\", verbose=0, n_jobs=-1)\n",
    "grid_xgb.fit(X_train_std, y_train_outlier)"
   ]
  },
  {
   "cell_type": "code",
   "execution_count": 329,
   "id": "3ebfda65",
   "metadata": {},
   "outputs": [
    {
     "name": "stdout",
     "output_type": "stream",
     "text": [
      "Najlepsze parametry:  {'booster': 'gbtree', 'learning_rate': 0.1, 'max_depth': 10, 'n_estimators': 150, 'num_class': 6, 'objective': 'multi:softmax', 'reg_alpha': 1}\n",
      "Najwyższy score:  0.7222916334661355\n"
     ]
    }
   ],
   "source": [
    "print(\"Najlepsze parametry: \", grid_xgb.best_params_)\n",
    "print(\"Najwyższy score: \", grid_xgb.best_score_)"
   ]
  },
  {
   "cell_type": "code",
   "execution_count": 701,
   "id": "73baad45",
   "metadata": {},
   "outputs": [
    {
     "data": {
      "text/plain": [
       "array([0.9458067 , 0.94662196, 0.96057788, 0.95222337, 0.95987183])"
      ]
     },
     "execution_count": 701,
     "metadata": {},
     "output_type": "execute_result"
    }
   ],
   "source": [
    "%%capture --no-display\n",
    "# Zastosowanie najlepszych parametrów dla modelu\n",
    "\n",
    "model_xgb_best = xgb.XGBClassifier(random_state=12, booster='gbtree', learning_rate=0.1, \n",
    "                                   max_depth=10, n_estimators=150, num_class=6, \n",
    "                                   objective='multi:softmax', reg_alpha=1)\n",
    "\n",
    "# (random_state=12, booster='gbtree', learning_rate=0.2, \n",
    "#                                    max_depth=20, n_estimators=150, objective='reg:logistic', \n",
    "#                                    reg_alpha=2, subsample=0.5, colsample_bylevel=0.5,\n",
    "#                                    tree_method=\"approx\")\n",
    "\n",
    "model_xgb_best.fit(X_train_std, y_train_outlier)\n",
    "\n",
    "cross_val_score(model_xgb, X_train_std, y_train_outlier, cv=5, scoring=\"roc_auc_ovr\")"
   ]
  },
  {
   "cell_type": "code",
   "execution_count": 702,
   "id": "16508f91",
   "metadata": {},
   "outputs": [
    {
     "data": {
      "text/plain": [
       "0.8523205452914785"
      ]
     },
     "execution_count": 702,
     "metadata": {},
     "output_type": "execute_result"
    }
   ],
   "source": [
    "roc_auc_score(y_test_outlier, model_xgb_best.predict_proba(X_test_std), multi_class=\"ovr\")"
   ]
  },
  {
   "cell_type": "code",
   "execution_count": 703,
   "id": "92fb4a1d",
   "metadata": {},
   "outputs": [
    {
     "data": {
      "text/plain": [
       "0.6410835214446953"
      ]
     },
     "execution_count": 703,
     "metadata": {},
     "output_type": "execute_result"
    }
   ],
   "source": [
    "model_xgb_best.score(X_test_std, y_test_outlier)"
   ]
  },
  {
   "cell_type": "code",
   "execution_count": 704,
   "id": "4d147070",
   "metadata": {
    "scrolled": false
   },
   "outputs": [
    {
     "name": "stdout",
     "output_type": "stream",
     "text": [
      "Confusion matrix - tablica pomyłek\n",
      " [[  0   2   0   1   0   0]\n",
      " [  3   0   5   6   0   0]\n",
      " [  0  12 139  33   2   0]\n",
      " [  2   5  38 118  10  10]\n",
      " [  0   2   2  16  26   7]\n",
      " [  0   0   0   0   3   1]]\n",
      "Raport klasyfikacyjny: \n",
      "               precision    recall  f1-score   support\n",
      "\n",
      "           3       0.00      0.00      0.00         3\n",
      "           4       0.00      0.00      0.00        14\n",
      "           5       0.76      0.75      0.75       186\n",
      "           6       0.68      0.64      0.66       183\n",
      "           7       0.63      0.49      0.55        53\n",
      "           8       0.06      0.25      0.09         4\n",
      "\n",
      "    accuracy                           0.64       443\n",
      "   macro avg       0.35      0.36      0.34       443\n",
      "weighted avg       0.67      0.64      0.66       443\n",
      "\n"
     ]
    }
   ],
   "source": [
    "y_pred_xgb = model_xgb_best.predict(X_test_std)\n",
    "\n",
    "print(\"Confusion matrix - tablica pomyłek\\n\", confusion_matrix(y_test_outlier, y_pred_xgb))\n",
    "\n",
    "print(\"Raport klasyfikacyjny: \\n\", classification_report(y_test_outlier, y_pred_xgb, zero_division=1))"
   ]
  },
  {
   "cell_type": "code",
   "execution_count": 496,
   "id": "4111626d",
   "metadata": {},
   "outputs": [
    {
     "data": {
      "text/plain": [
       "<AxesSubplot:title={'center':'Feature importance'}, xlabel='F score', ylabel='Features'>"
      ]
     },
     "execution_count": 496,
     "metadata": {},
     "output_type": "execute_result"
    },
    {
     "data": {
      "image/png": "[encoded data removed]",
      "text/plain": [
       "<Figure size 720x576 with 1 Axes>"
      ]
     },
     "metadata": {},
     "output_type": "display_data"
    }
   ],
   "source": [
    "from matplotlib.pylab import rcParams\n",
    "##set up the parameters\n",
    "rcParams['figure.figsize'] = 10, 8\n",
    "\n",
    "xgb.plot_importance(model_xgb_best)"
   ]
  },
  {
   "cell_type": "code",
   "execution_count": 705,
   "id": "bf46fdd2",
   "metadata": {},
   "outputs": [
    {
     "data": {
      "text/plain": [
       "<matplotlib.legend.Legend at 0x156909e0190>"
      ]
     },
     "execution_count": 705,
     "metadata": {},
     "output_type": "execute_result"
    },
    {
     "data": {
      "image/png": "[encoded data removed]",
      "text/plain": [
       "<Figure size 576x432 with 1 Axes>"
      ]
     },
     "metadata": {},
     "output_type": "display_data"
    }
   ],
   "source": [
    "%%capture --no-display\n",
    "\n",
    "scores_train = []\n",
    "scores_test = []\n",
    "\n",
    "for k in range(1, 31):\n",
    "    xg = xgb.XGBClassifier(booster='gbtree', objective='multi:softmax', learning_rate=0.2, \n",
    "                            max_depth=20, n_estimators=150, num_class=6, reg_alpha=k, random_state=12)\n",
    "    xg.fit(X_train_std, y_train_outlier)\n",
    "    score = cross_val_score(xg, X_train_std, y_train_outlier, cv=5, scoring=\"roc_auc_ovr\")\n",
    "    scores_train.append(score.mean())\n",
    "    \n",
    "    score2 = roc_auc_score(y_test_outlier, xg.predict_proba(X_test_std), multi_class=\"ovr\")\n",
    "    scores_test.append(score2)\n",
    "    \n",
    "    \n",
    "plt.figure(figsize=(8, 6))\n",
    "plt.title('K vs roc_auc_score')\n",
    "plt.xlabel('K')\n",
    "plt.ylabel('roc_auc_score')\n",
    "plt.plot(range(1,31), scores_train, label='train')\n",
    "plt.plot(range(1,31), scores_test, label='test')\n",
    "plt.legend()"
   ]
  },
  {
   "cell_type": "code",
   "execution_count": 440,
   "id": "f57716d3",
   "metadata": {},
   "outputs": [
    {
     "data": {
      "text/plain": [
       "<matplotlib.legend.Legend at 0x15687eda130>"
      ]
     },
     "execution_count": 440,
     "metadata": {},
     "output_type": "execute_result"
    },
    {
     "data": {
      "image/png": "[encoded data removed]",
      "text/plain": [
       "<Figure size 576x432 with 1 Axes>"
      ]
     },
     "metadata": {},
     "output_type": "display_data"
    }
   ],
   "source": [
    "%%capture --no-display\n",
    "\n",
    "scores_train = []\n",
    "scores_test = []\n",
    "\n",
    "for k in range(1, 40):\n",
    "    xg = xgb.XGBClassifier(booster='gbtree', objective='multi:softmax', learning_rate=0.2, \n",
    "                            max_depth=k, n_estimators=150, num_class=6, reg_alpha=2, random_state=12)\n",
    "    xg.fit(X_train_std, y_train_outlier)\n",
    "    score = cross_val_score(xg, X_train_std, y_train_outlier, cv=5, scoring=\"roc_auc_ovr\")\n",
    "    scores_train.append(score.mean())\n",
    "    \n",
    "    score2 = roc_auc_score(y_test_outlier, xg.predict_proba(X_test_std), multi_class=\"ovr\")\n",
    "    scores_test.append(score2)\n",
    "    \n",
    "    \n",
    "plt.figure(figsize=(8, 6))\n",
    "plt.title('K vs roc_auc_score')\n",
    "plt.xlabel('K')\n",
    "plt.ylabel('roc_auc_score')\n",
    "plt.plot(range(1,40), scores_train, label='train')\n",
    "plt.plot(range(1,40), scores_test, label='test')\n",
    "plt.legend()"
   ]
  },
  {
   "cell_type": "code",
   "execution_count": 706,
   "id": "62ab7ba3",
   "metadata": {},
   "outputs": [
    {
     "data": {
      "text/plain": [
       "<matplotlib.legend.Legend at 0x156909355b0>"
      ]
     },
     "execution_count": 706,
     "metadata": {},
     "output_type": "execute_result"
    },
    {
     "data": {
      "image/png": "[encoded data removed]",
      "text/plain": [
       "<Figure size 576x432 with 1 Axes>"
      ]
     },
     "metadata": {},
     "output_type": "display_data"
    }
   ],
   "source": [
    "%%capture --no-display\n",
    "\n",
    "scores_train = []\n",
    "scores_test = []\n",
    "list_lr = [0.001, 0.01, 0.02, 0.05, 0.1, 0.2, 0.3, 0.5, 1.0]\n",
    "\n",
    "for k in list_lr:\n",
    "    xg = xgb.XGBClassifier(booster='gbtree', objective='multi:softmax', learning_rate=k, \n",
    "                            max_depth=20, n_estimators=150, num_class=6, reg_alpha=2, random_state=12)\n",
    "    xg.fit(X_train_std, y_train_outlier)\n",
    "    score = cross_val_score(xg, X_train_std, y_train_outlier, cv=5, scoring=\"roc_auc_ovr\")\n",
    "    scores_train.append(score.mean())\n",
    "    \n",
    "    score2 = roc_auc_score(y_test_outlier, xg.predict_proba(X_test_std), multi_class=\"ovr\")\n",
    "    scores_test.append(score2)\n",
    "    \n",
    "    \n",
    "plt.figure(figsize=(8, 6))\n",
    "plt.title('K vs roc_auc_score')\n",
    "plt.xlabel('K')\n",
    "plt.ylabel('roc_auc_score')\n",
    "plt.plot(list_lr, scores_train, label='train')\n",
    "plt.plot(list_lr, scores_test, label='test')\n",
    "plt.legend()"
   ]
  },
  {
   "cell_type": "code",
   "execution_count": 442,
   "id": "eaaa8fbc",
   "metadata": {
    "scrolled": false
   },
   "outputs": [
    {
     "data": {
      "text/plain": [
       "<matplotlib.legend.Legend at 0x15687f9c370>"
      ]
     },
     "execution_count": 442,
     "metadata": {},
     "output_type": "execute_result"
    },
    {
     "data": {
      "image/png": "[encoded data removed]",
      "text/plain": [
       "<Figure size 576x432 with 1 Axes>"
      ]
     },
     "metadata": {},
     "output_type": "display_data"
    }
   ],
   "source": [
    "%%capture --no-display\n",
    "\n",
    "scores_train = []\n",
    "scores_test = []\n",
    "list_n = [50, 100, 150, 200, 250, 300]\n",
    "\n",
    "for k in list_n:\n",
    "    xg = xgb.XGBClassifier(booster='gbtree', objective='multi:softmax', learning_rate=0.2, \n",
    "                            max_depth=20, n_estimators=k, num_class=6, reg_alpha=2, random_state=12)\n",
    "    xg.fit(X_train_std, y_train_outlier)\n",
    "    score = cross_val_score(xg, X_train_std, y_train_outlier, cv=5, scoring=\"roc_auc_ovr\")\n",
    "    scores_train.append(score.mean())\n",
    "    \n",
    "    score2 = roc_auc_score(y_test_outlier, xg.predict_proba(X_test_std), multi_class=\"ovr\")\n",
    "    scores_test.append(score2)\n",
    "    \n",
    "    \n",
    "plt.figure(figsize=(8, 6))\n",
    "plt.title('K vs roc_auc_score')\n",
    "plt.xlabel('K')\n",
    "plt.ylabel('roc_auc_score')\n",
    "plt.plot(list_n, scores_train, label='train')\n",
    "plt.plot(list_n, scores_test, label='test')\n",
    "plt.legend()"
   ]
  },
  {
   "cell_type": "markdown",
   "id": "6bf4448f",
   "metadata": {},
   "source": [
    "### Logistic Regresion"
   ]
  },
  {
   "cell_type": "code",
   "execution_count": 444,
   "id": "823ff64a",
   "metadata": {},
   "outputs": [
    {
     "data": {
      "text/plain": [
       "array([0.8627892 , 0.88037694, 0.87299662, 0.87077219, 0.86738643])"
      ]
     },
     "execution_count": 444,
     "metadata": {},
     "output_type": "execute_result"
    }
   ],
   "source": [
    "# Logistic Regression\n",
    "\n",
    "model_LR = LogisticRegression()\n",
    "model_LR.fit(X_train_std, y_train_outlier)\n",
    "\n",
    "cross_val_score(model_LR, X_train_std, y_train_outlier, cv=5, scoring=\"roc_auc_ovr\")"
   ]
  },
  {
   "cell_type": "code",
   "execution_count": 445,
   "id": "4019b7d3",
   "metadata": {},
   "outputs": [
    {
     "data": {
      "text/plain": [
       "0.7679540009797593"
      ]
     },
     "execution_count": 445,
     "metadata": {},
     "output_type": "execute_result"
    }
   ],
   "source": [
    "roc_auc_score(y_test_outlier, model_LR.predict_proba(X_test_std), multi_class=\"ovr\")"
   ]
  },
  {
   "cell_type": "code",
   "execution_count": 446,
   "id": "91a706a9",
   "metadata": {},
   "outputs": [
    {
     "data": {
      "text/plain": [
       "0.6041500399042299"
      ]
     },
     "execution_count": 446,
     "metadata": {},
     "output_type": "execute_result"
    }
   ],
   "source": [
    "model_LR.score(X_train_std, y_train_outlier)"
   ]
  },
  {
   "cell_type": "code",
   "execution_count": 447,
   "id": "bc9e6d04",
   "metadata": {},
   "outputs": [
    {
     "name": "stdout",
     "output_type": "stream",
     "text": [
      "Confusion matrix - tablica pomyłek\n",
      " [[  0   0   1   1   0   0]\n",
      " [  4   5   3   2   0   0]\n",
      " [  4  17 116  47   2   2]\n",
      " [  3   3  50  93  12  18]\n",
      " [  0   0   2  18   9  24]\n",
      " [  0   0   0   1   1   2]]\n",
      "Raport klasyfikacyjny: \n",
      "               precision    recall  f1-score   support\n",
      "\n",
      "           3       0.00      0.00      0.00         2\n",
      "           4       0.20      0.36      0.26        14\n",
      "           5       0.67      0.62      0.64       188\n",
      "           6       0.57      0.52      0.55       179\n",
      "           7       0.38      0.17      0.23        53\n",
      "           8       0.04      0.50      0.08         4\n",
      "\n",
      "    accuracy                           0.51       440\n",
      "   macro avg       0.31      0.36      0.29       440\n",
      "weighted avg       0.57      0.51      0.53       440\n",
      "\n"
     ]
    }
   ],
   "source": [
    "y_pred_LR = model_LR.predict(X_test_std)\n",
    "\n",
    "print(\"Confusion matrix - tablica pomyłek\\n\", confusion_matrix(y_test_outlier, y_pred_LR))\n",
    "\n",
    "print(\"Raport klasyfikacyjny: \\n\", classification_report(y_test_outlier, y_pred_LR, zero_division=1))"
   ]
  },
  {
   "cell_type": "code",
   "execution_count": 478,
   "id": "87465364",
   "metadata": {},
   "outputs": [
    {
     "data": {
      "text/plain": [
       "array([0.86379889, 0.87972974, 0.8723607 , 0.86716618, 0.868142  ])"
      ]
     },
     "execution_count": 478,
     "metadata": {},
     "output_type": "execute_result"
    }
   ],
   "source": [
    "model_LR_best = LogisticRegression(penalty=\"l2\", C=1, \n",
    "                                   class_weight=\"balanced\", \n",
    "                                   random_state=12, \n",
    "                                   solver=\"newton-cg\", \n",
    "                                   multi_class=\"multinomial\")\n",
    "model_LR_best.fit(X_train_std, y_train_outlier)\n",
    "cross_val_score(model_LR_best, X_train_std, y_train_outlier, cv=5, scoring=\"roc_auc_ovr\")"
   ]
  },
  {
   "cell_type": "code",
   "execution_count": 479,
   "id": "7af285c2",
   "metadata": {},
   "outputs": [
    {
     "data": {
      "text/plain": [
       "0.7467498428113465"
      ]
     },
     "execution_count": 479,
     "metadata": {},
     "output_type": "execute_result"
    }
   ],
   "source": [
    "roc_auc_score(y_test_outlier, model_LR_best.predict_proba(X_test_std), multi_class=\"ovr\")"
   ]
  },
  {
   "cell_type": "code",
   "execution_count": 480,
   "id": "2d7dd3ee",
   "metadata": {},
   "outputs": [
    {
     "data": {
      "text/plain": [
       "0.5921787709497207"
      ]
     },
     "execution_count": 480,
     "metadata": {},
     "output_type": "execute_result"
    }
   ],
   "source": [
    "model_LR_best.score(X_train_std, y_train_outlier)"
   ]
  },
  {
   "cell_type": "code",
   "execution_count": 481,
   "id": "2066d1a6",
   "metadata": {},
   "outputs": [
    {
     "name": "stdout",
     "output_type": "stream",
     "text": [
      "Confusion matrix - tablica pomyłek\n",
      " [[ 0  1  0  1  0  0]\n",
      " [ 5  6  1  2  0  0]\n",
      " [ 4 39 98 35  8  4]\n",
      " [ 5 12 43 51 47 21]\n",
      " [ 0  0  2 10 23 18]\n",
      " [ 0  0  0  0  1  3]]\n",
      "Raport klasyfikacyjny: \n",
      "               precision    recall  f1-score   support\n",
      "\n",
      "           3       0.00      0.00      0.00         2\n",
      "           4       0.10      0.43      0.17        14\n",
      "           5       0.68      0.52      0.59       188\n",
      "           6       0.52      0.28      0.37       179\n",
      "           7       0.29      0.43      0.35        53\n",
      "           8       0.07      0.75      0.12         4\n",
      "\n",
      "    accuracy                           0.41       440\n",
      "   macro avg       0.28      0.40      0.27       440\n",
      "weighted avg       0.54      0.41      0.45       440\n",
      "\n"
     ]
    }
   ],
   "source": [
    "y_pred_LR = model_LR_best.predict(X_test_std)\n",
    "\n",
    "print(\"Confusion matrix - tablica pomyłek\\n\", confusion_matrix(y_test_outlier, y_pred_LR))\n",
    "\n",
    "print(\"Raport klasyfikacyjny: \\n\", classification_report(y_test_outlier, y_pred_LR, zero_division=1))"
   ]
  },
  {
   "cell_type": "code",
   "execution_count": 484,
   "id": "6526160a",
   "metadata": {},
   "outputs": [
    {
     "data": {
      "text/plain": [
       "<matplotlib.legend.Legend at 0x1568c296760>"
      ]
     },
     "execution_count": 484,
     "metadata": {},
     "output_type": "execute_result"
    },
    {
     "data": {
      "image/png": "[encoded data removed]",
      "text/plain": [
       "<Figure size 720x576 with 1 Axes>"
      ]
     },
     "metadata": {},
     "output_type": "display_data"
    }
   ],
   "source": [
    "scores_train = []\n",
    "scores_test = []\n",
    "\n",
    "c_list = [0.01, 0.05, 0.1, 0.5, 1.0, 2.0, 5.0]\n",
    "\n",
    "for k in c_list:\n",
    "    lr = LogisticRegression(penalty=\"l2\", \n",
    "                            C=k, \n",
    "                            class_weight=\"balanced\", \n",
    "                            random_state=12, \n",
    "                            solver=\"newton-cg\", \n",
    "                            multi_class=\"multinomial\")\n",
    "    lr.fit(X_train_std, y_train_outlier)\n",
    "    score = cross_val_score(lr, X_train_std, y_train_outlier, cv=5, scoring=\"roc_auc_ovr\")\n",
    "    scores_train.append(score.mean())\n",
    "    \n",
    "    score2 = roc_auc_score(y_test_outlier, xg.predict_proba(X_test_std), multi_class=\"ovr\")\n",
    "    scores_test.append(score2)\n",
    "    \n",
    "plt.figure(figsize=(10, 8))\n",
    "plt.title(\"K vs roc_auc_score\")\n",
    "plt.xlabel(\"K\")\n",
    "plt.ylabel(\"roc_auc_score\")\n",
    "plt.plot(c_list, scores_train, label=\"train\")\n",
    "plt.plot(c_list, scores_test, label=\"test\")\n",
    "plt.legend()"
   ]
  },
  {
   "cell_type": "code",
   "execution_count": null,
   "id": "8b0265ef",
   "metadata": {},
   "outputs": [],
   "source": []
  }
 ],
 "metadata": {
  "kernelspec": {
   "display_name": "Python 3 (ipykernel)",
   "language": "python",
   "name": "python3"
  },
  "language_info": {
   "codemirror_mode": {
    "name": "ipython",
    "version": 3
   },
   "file_extension": ".py",
   "mimetype": "text/x-python",
   "name": "python",
   "nbconvert_exporter": "python",
   "pygments_lexer": "ipython3",
   "version": "3.9.7"
  }
 },
 "nbformat": 4,
 "nbformat_minor": 5
}
