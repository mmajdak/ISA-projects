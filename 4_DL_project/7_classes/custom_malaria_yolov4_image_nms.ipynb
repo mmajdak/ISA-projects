{
 "cells": [
  {
   "cell_type": "code",
   "execution_count": 1,
   "metadata": {
    "colab": {
     "base_uri": "https://localhost:8080/"
    },
    "executionInfo": {
     "elapsed": 13694,
     "status": "ok",
     "timestamp": 1647772443885,
     "user": {
      "displayName": "Paulina Rakowska",
      "photoUrl": "https://lh3.googleusercontent.com/a/default-user=s64",
      "userId": "14502376587314830749"
     },
     "user_tz": -60
    },
    "id": "Gt5EXqa41A-R",
    "outputId": "da4ac83c-85bf-4a0e-dece-2db7e28e9af7"
   },
   "outputs": [
    {
     "name": "stdout",
     "output_type": "stream",
     "text": [
      "Drive already mounted at /content/drive; to attempt to forcibly remount, call drive.mount(\"/content/drive\", force_remount=True).\n"
     ]
    }
   ],
   "source": [
    "# from google.colab import drive\n",
    "# drive.mount('/content/drive')"
   ]
  },
  {
   "cell_type": "code",
   "execution_count": 15,
   "metadata": {
    "colab": {
     "base_uri": "https://localhost:8080/",
     "height": 435
    },
    "collapsed": true,
    "executionInfo": {
     "elapsed": 9654,
     "status": "ok",
     "timestamp": 1647772675048,
     "user": {
      "displayName": "Paulina Rakowska",
      "photoUrl": "https://lh3.googleusercontent.com/a/default-user=s64",
      "userId": "14502376587314830749"
     },
     "user_tz": -60
    },
    "id": "sjbiTDtsPmu0",
    "outputId": "bac21388-c989-4222-d778-8a5792d00d57"
   },
   "outputs": [
    {
     "name": "stdout",
     "output_type": "stream",
     "text": [
      "Collecting opencv-contrib-python==3.4.13.47\n",
      "  Using cached opencv_contrib_python-3.4.13.47-cp37-cp37m-manylinux2014_x86_64.whl (53.7 MB)\n",
      "Collecting numpy>=1.14.5\n",
      "  Using cached numpy-1.21.5-cp37-cp37m-manylinux_2_12_x86_64.manylinux2010_x86_64.whl (15.7 MB)\n",
      "Installing collected packages: numpy, opencv-contrib-python\n",
      "  Attempting uninstall: numpy\n",
      "    Found existing installation: numpy 1.21.5\n",
      "    Uninstalling numpy-1.21.5:\n",
      "      Successfully uninstalled numpy-1.21.5\n",
      "  Attempting uninstall: opencv-contrib-python\n",
      "    Found existing installation: opencv-contrib-python 3.4.13.47\n",
      "    Uninstalling opencv-contrib-python-3.4.13.47:\n",
      "      Successfully uninstalled opencv-contrib-python-3.4.13.47\n",
      "\u001b[31mERROR: pip's dependency resolver does not currently take into account all the packages that are installed. This behaviour is the source of the following dependency conflicts.\n",
      "tensorflow 2.8.0 requires tf-estimator-nightly==2.8.0.dev2021122109, which is not installed.\n",
      "datascience 0.10.6 requires folium==0.2.1, but you have folium 0.8.3 which is incompatible.\n",
      "albumentations 0.1.12 requires imgaug<0.2.7,>=0.2.5, but you have imgaug 0.2.9 which is incompatible.\u001b[0m\n",
      "Successfully installed numpy-1.21.5 opencv-contrib-python-3.4.13.47\n"
     ]
    },
    {
     "data": {
      "application/vnd.colab-display-data+json": {
       "pip_warning": {
        "packages": [
         "cv2",
         "numpy"
        ]
       }
      }
     },
     "metadata": {},
     "output_type": "display_data"
    }
   ],
   "source": [
    "# !pip install opencv-contrib-python==3.4.13.47 --force-reinstall"
   ]
  },
  {
   "cell_type": "code",
   "execution_count": null,
   "metadata": {},
   "outputs": [],
   "source": [
    "# Source: https://drive.google.com/drive/folders/1DzbzBBPj7EFyQhnrtaLLpOIx0N9P5iVH"
   ]
  },
  {
   "cell_type": "code",
   "execution_count": 1,
   "metadata": {
    "executionInfo": {
     "elapsed": 651,
     "status": "ok",
     "timestamp": 1647772728395,
     "user": {
      "displayName": "Paulina Rakowska",
      "photoUrl": "https://lh3.googleusercontent.com/a/default-user=s64",
      "userId": "14502376587314830749"
     },
     "user_tz": -60
    },
    "id": "fNk4Swrc1K_k"
   },
   "outputs": [],
   "source": [
    "import numpy as  np\n",
    "import cv2"
   ]
  },
  {
   "cell_type": "code",
   "execution_count": 3,
   "metadata": {
    "colab": {
     "base_uri": "https://localhost:8080/"
    },
    "executionInfo": {
     "elapsed": 559,
     "status": "ok",
     "timestamp": 1647772733863,
     "user": {
      "displayName": "Paulina Rakowska",
      "photoUrl": "https://lh3.googleusercontent.com/a/default-user=s64",
      "userId": "14502376587314830749"
     },
     "user_tz": -60
    },
    "id": "YAQ5WR0-OYqB",
    "outputId": "c821f39d-d478-44a5-becb-94be371ab55e"
   },
   "outputs": [
    {
     "name": "stdout",
     "output_type": "stream",
     "text": [
      "/content/drive/MyDrive/Colab Notebooks/yolov4\n"
     ]
    }
   ],
   "source": [
    "# %cd 'drive/MyDrive/Colab Notebooks/yolov4'"
   ]
  },
  {
   "cell_type": "code",
   "execution_count": 42,
   "metadata": {
    "executionInfo": {
     "elapsed": 1495,
     "status": "ok",
     "timestamp": 1647777522148,
     "user": {
      "displayName": "Paulina Rakowska",
      "photoUrl": "https://lh3.googleusercontent.com/a/default-user=s64",
      "userId": "14502376587314830749"
     },
     "user_tz": -60
    },
    "id": "3j3gdwPz1LDM"
   },
   "outputs": [],
   "source": [
    "# load the image to detect, get width, height \n",
    "\n",
    "img_to_detect = cv2.imread('testing/3e03b313-66eb-471f-a97a-7b2bf20dcff5.jpg')\n",
    "img_height = img_to_detect.shape[0]\n",
    "img_width = img_to_detect.shape[1]"
   ]
  },
  {
   "cell_type": "code",
   "execution_count": 43,
   "metadata": {
    "executionInfo": {
     "elapsed": 338,
     "status": "ok",
     "timestamp": 1647777527398,
     "user": {
      "displayName": "Paulina Rakowska",
      "photoUrl": "https://lh3.googleusercontent.com/a/default-user=s64",
      "userId": "14502376587314830749"
     },
     "user_tz": -60
    },
    "id": "mgqS99QK1LF-"
   },
   "outputs": [],
   "source": [
    "# convert to blob to pass into model\n",
    "img_blob = cv2.dnn.blobFromImage(img_to_detect, 0.003922, (608, 608), swapRB=True, crop=False)\n",
    "#recommended by yolo authors, scale factor is 0.003922=1/255, width,height of blob is 320,320\n",
    "#accepted sizes are 320×320,416×416,608×608. More size means more accuracy but less speed\n"
   ]
  },
  {
   "cell_type": "code",
   "execution_count": 27,
   "metadata": {
    "executionInfo": {
     "elapsed": 350,
     "status": "ok",
     "timestamp": 1647776940925,
     "user": {
      "displayName": "Paulina Rakowska",
      "photoUrl": "https://lh3.googleusercontent.com/a/default-user=s64",
      "userId": "14502376587314830749"
     },
     "user_tz": -60
    },
    "id": "dZJy057C1LIr"
   },
   "outputs": [],
   "source": [
    "# class labels \n",
    "class_labels = [\"red blood cell\", \"trophozoite\", \"difficult\", \"ring\", \"schizont\", \"gametocyte\", \"leukocyte\"]"
   ]
  },
  {
   "cell_type": "code",
   "execution_count": 28,
   "metadata": {
    "executionInfo": {
     "elapsed": 36,
     "status": "ok",
     "timestamp": 1647776941865,
     "user": {
      "displayName": "Paulina Rakowska",
      "photoUrl": "https://lh3.googleusercontent.com/a/default-user=s64",
      "userId": "14502376587314830749"
     },
     "user_tz": -60
    },
    "id": "SwP1ogZ41LLm"
   },
   "outputs": [],
   "source": [
    "#Declare colors\n",
    "class_colors = [\"0,255,0\",\"0,0,255\",\"255,0,0\",\"255,255,0\",\"0,255,255\"]\n",
    "class_colors = [np.array(every_color.split(\",\")).astype(\"int\") for every_color in class_colors]\n",
    "class_colors = np.array(class_colors)\n",
    "class_colors = np.tile(class_colors,(7,1))\n"
   ]
  },
  {
   "cell_type": "code",
   "execution_count": 29,
   "metadata": {
    "executionInfo": {
     "elapsed": 512,
     "status": "ok",
     "timestamp": 1647776943305,
     "user": {
      "displayName": "Paulina Rakowska",
      "photoUrl": "https://lh3.googleusercontent.com/a/default-user=s64",
      "userId": "14502376587314830749"
     },
     "user_tz": -60
    },
    "id": "xaIbXkZw2VTQ"
   },
   "outputs": [],
   "source": [
    "# Loading the malaria custom model \n",
    "# input preprocessed blob into model and pass through the model\n",
    "# obtain the detection predictions by the model using forward() method\n",
    "yolo_model = cv2.dnn.readNetFromDarknet('darknet/cfg/yolov4-custom.cfg','darknet/backup/yolov4-custom_best_2_66.weights')"
   ]
  },
  {
   "cell_type": "code",
   "execution_count": 33,
   "metadata": {
    "executionInfo": {
     "elapsed": 302,
     "status": "ok",
     "timestamp": 1647776974798,
     "user": {
      "displayName": "Paulina Rakowska",
      "photoUrl": "https://lh3.googleusercontent.com/a/default-user=s64",
      "userId": "14502376587314830749"
     },
     "user_tz": -60
    },
    "id": "3Aas1N5G2VWk"
   },
   "outputs": [],
   "source": [
    "# Get all layers from the yolo network\n",
    "# Loop and find the last layer (output layer) of the yolo network \n",
    "yolo_layers = yolo_model.getLayerNames()\n",
    "yolo_output_layer = [yolo_layers[yolo_layer[0] - 1] for yolo_layer in yolo_model.getUnconnectedOutLayers()]"
   ]
  },
  {
   "cell_type": "code",
   "execution_count": 44,
   "metadata": {
    "executionInfo": {
     "elapsed": 3677,
     "status": "ok",
     "timestamp": 1647777555935,
     "user": {
      "displayName": "Paulina Rakowska",
      "photoUrl": "https://lh3.googleusercontent.com/a/default-user=s64",
      "userId": "14502376587314830749"
     },
     "user_tz": -60
    },
    "id": "D7GRnLD02fD7"
   },
   "outputs": [],
   "source": [
    "# input preprocessed blob into model and pass through the model\n",
    "yolo_model.setInput(img_blob)\n",
    "# obtain the detection layers by forwarding through till the output layer\n",
    "obj_detection_layers = yolo_model.forward(yolo_output_layer)"
   ]
  },
  {
   "cell_type": "code",
   "execution_count": 45,
   "metadata": {
    "colab": {
     "base_uri": "https://localhost:8080/"
    },
    "executionInfo": {
     "elapsed": 334,
     "status": "ok",
     "timestamp": 1647777557455,
     "user": {
      "displayName": "Paulina Rakowska",
      "photoUrl": "https://lh3.googleusercontent.com/a/default-user=s64",
      "userId": "14502376587314830749"
     },
     "user_tz": -60
    },
    "id": "IfhPX6Kz1IP2",
    "outputId": "d8bec143-93bd-44a0-b22a-eee47cfa06f9"
   },
   "outputs": [
    {
     "name": "stdout",
     "output_type": "stream",
     "text": [
      "predicted object red blood cell: 99.96%\n",
      "predicted object red blood cell: 99.95%\n",
      "predicted object red blood cell: 99.95%\n",
      "predicted object red blood cell: 99.94%\n",
      "predicted object red blood cell: 99.94%\n",
      "predicted object red blood cell: 99.94%\n",
      "predicted object red blood cell: 99.94%\n",
      "predicted object red blood cell: 99.93%\n",
      "predicted object red blood cell: 99.93%\n",
      "predicted object red blood cell: 99.93%\n",
      "predicted object red blood cell: 99.92%\n",
      "predicted object red blood cell: 99.92%\n",
      "predicted object red blood cell: 99.92%\n",
      "predicted object red blood cell: 99.92%\n",
      "predicted object red blood cell: 99.92%\n",
      "predicted object red blood cell: 99.90%\n",
      "predicted object red blood cell: 99.90%\n",
      "predicted object red blood cell: 99.89%\n",
      "predicted object red blood cell: 99.89%\n",
      "predicted object red blood cell: 99.88%\n",
      "predicted object red blood cell: 99.88%\n",
      "predicted object red blood cell: 99.88%\n",
      "predicted object red blood cell: 99.88%\n",
      "predicted object red blood cell: 99.87%\n",
      "predicted object red blood cell: 99.87%\n",
      "predicted object red blood cell: 99.85%\n",
      "predicted object red blood cell: 99.85%\n",
      "predicted object red blood cell: 99.83%\n",
      "predicted object red blood cell: 99.82%\n",
      "predicted object red blood cell: 99.82%\n",
      "predicted object red blood cell: 99.80%\n",
      "predicted object red blood cell: 99.78%\n",
      "predicted object red blood cell: 99.78%\n",
      "predicted object red blood cell: 99.78%\n",
      "predicted object red blood cell: 99.75%\n",
      "predicted object red blood cell: 99.73%\n",
      "predicted object red blood cell: 99.70%\n",
      "predicted object red blood cell: 99.67%\n",
      "predicted object red blood cell: 99.60%\n",
      "predicted object red blood cell: 99.59%\n",
      "predicted object red blood cell: 99.56%\n",
      "predicted object red blood cell: 99.55%\n",
      "predicted object red blood cell: 99.37%\n",
      "predicted object red blood cell: 99.28%\n",
      "predicted object red blood cell: 99.22%\n",
      "predicted object red blood cell: 99.17%\n",
      "predicted object red blood cell: 98.82%\n",
      "predicted object red blood cell: 98.74%\n",
      "predicted object red blood cell: 98.44%\n",
      "predicted object red blood cell: 98.36%\n",
      "predicted object red blood cell: 98.35%\n",
      "predicted object red blood cell: 98.19%\n",
      "predicted object red blood cell: 97.90%\n",
      "predicted object red blood cell: 95.10%\n",
      "predicted object red blood cell: 92.43%\n",
      "predicted object red blood cell: 91.12%\n",
      "predicted object red blood cell: 90.75%\n",
      "predicted object red blood cell: 88.50%\n",
      "predicted object red blood cell: 83.24%\n",
      "predicted object red blood cell: 81.19%\n",
      "predicted object red blood cell: 80.13%\n",
      "predicted object red blood cell: 79.83%\n",
      "predicted object red blood cell: 78.69%\n",
      "predicted object red blood cell: 76.16%\n",
      "predicted object red blood cell: 73.37%\n",
      "predicted object red blood cell: 65.59%\n",
      "predicted object red blood cell: 58.14%\n",
      "predicted object red blood cell: 57.09%\n"
     ]
    }
   ],
   "source": [
    "############## NMS Change 1 ###############\n",
    "# initialization for non-max suppression (NMS)\n",
    "# declare list for [class id], [box center, width & height[], [confidences]\n",
    "class_ids_list = []\n",
    "boxes_list = []\n",
    "confidences_list = []\n",
    "############## NMS Change 1 END ###########\n",
    "\n",
    "\n",
    "# loop over each of the layer outputs\n",
    "for object_detection_layer in obj_detection_layers:\n",
    "\t# loop over the detections\n",
    "    for object_detection in object_detection_layer:\n",
    "        \n",
    "        # obj_detections[1 to 4] => will have the two center points, box width and box height\n",
    "        # obj_detections[5] => will have scores for all objects within bounding box\n",
    "        all_scores = object_detection[5:]\n",
    "        predicted_class_id = np.argmax(all_scores)\n",
    "        prediction_confidence = all_scores[predicted_class_id]\n",
    "    \n",
    "        # take only predictions with confidence more than 20%\n",
    "        if prediction_confidence > 0.20:\n",
    "            #get the predicted label\n",
    "            predicted_class_label = class_labels[predicted_class_id]\n",
    "            #obtain the bounding box co-oridnates for actual image from resized image size\n",
    "            bounding_box = object_detection[0:4] * np.array([img_width, img_height, img_width, img_height])\n",
    "            (box_center_x_pt, box_center_y_pt, box_width, box_height) = bounding_box.astype(\"int\")\n",
    "            start_x_pt = int(box_center_x_pt - (box_width / 2))\n",
    "            start_y_pt = int(box_center_y_pt - (box_height / 2))\n",
    "            \n",
    "            ############## NMS Change 2 ###############\n",
    "            #save class id, start x, y, width & height, confidences in a list for nms processing\n",
    "            #make sure to pass confidence as float and width and height as integers\n",
    "            class_ids_list.append(predicted_class_id)\n",
    "            confidences_list.append(float(prediction_confidence))\n",
    "            boxes_list.append([start_x_pt, start_y_pt, int(box_width), int(box_height)])\n",
    "            ############## NMS Change 2 END ###########\n",
    "            \n",
    "############## NMS Change 3 ###############\n",
    "# Applying the NMS will return only the selected max value ids while suppressing the non maximum (weak) overlapping bounding boxes      \n",
    "# Non-Maxima Suppression confidence set as 0.5 & max_suppression threhold for NMS as 0.4 (adjust and try for better perfomance)\n",
    "max_value_ids = cv2.dnn.NMSBoxes(boxes_list, confidences_list, 0.5, 0.4)\n",
    "\n",
    "# loop through the final set of detections remaining after NMS and draw bounding box and write text\n",
    "for max_valueid in max_value_ids:\n",
    "    max_class_id = max_valueid[0]\n",
    "    box = boxes_list[max_class_id]\n",
    "    start_x_pt = box[0]\n",
    "    start_y_pt = box[1]\n",
    "    box_width = box[2]\n",
    "    box_height = box[3]\n",
    "    \n",
    "    #get the predicted class id and label\n",
    "    predicted_class_id = class_ids_list[max_class_id]\n",
    "    predicted_class_label = class_labels[predicted_class_id]\n",
    "    prediction_confidence = confidences_list[max_class_id]\n",
    "############## NMS Change 3 END ########### \n",
    "           \n",
    "    end_x_pt = start_x_pt + box_width\n",
    "    end_y_pt = start_y_pt + box_height\n",
    "    \n",
    "    #get a random mask color from the numpy array of colors\n",
    "    box_color = class_colors[predicted_class_id]\n",
    "    \n",
    "    #convert the color numpy array as a list and apply to text and box\n",
    "    box_color = [int(c) for c in box_color]\n",
    "    \n",
    "    # print the prediction in console\n",
    "    predicted_class_label = \"{}: {:.2f}%\".format(predicted_class_label, prediction_confidence * 100)\n",
    "    print(\"predicted object {}\".format(predicted_class_label))\n",
    "    \n",
    "    # draw rectangle and text in the image\n",
    "    cv2.rectangle(img_to_detect, (start_x_pt, start_y_pt), (end_x_pt, end_y_pt), box_color, 1)\n",
    "    cv2.putText(img_to_detect, predicted_class_label, (start_x_pt, start_y_pt-5), cv2.FONT_HERSHEY_SIMPLEX, 0.5, box_color, 1)"
   ]
  },
  {
   "cell_type": "code",
   "execution_count": 46,
   "metadata": {
    "colab": {
     "base_uri": "https://localhost:8080/",
     "height": 809,
     "output_embedded_package_id": "1q2Y0v_FvToxoIkitYj6MwJJyajhub0Uc"
    },
    "executionInfo": {
     "elapsed": 6444,
     "status": "ok",
     "timestamp": 1647777576486,
     "user": {
      "displayName": "Paulina Rakowska",
      "photoUrl": "https://lh3.googleusercontent.com/a/default-user=s64",
      "userId": "14502376587314830749"
     },
     "user_tz": -60
    },
    "id": "XqvVq5PT2r1w",
    "outputId": "c152610e-e46b-4b97-cc71-2f2493510e10"
   },
   "outputs": [
    {
     "data": {
      "text/plain": [
       "Output hidden; open in https://colab.research.google.com to view."
      ]
     },
     "metadata": {},
     "output_type": "display_data"
    }
   ],
   "source": [
    "from google.colab.patches import cv2_imshow\n",
    "cv2_imshow(img_to_detect)"
   ]
  }
 ],
 "metadata": {
  "colab": {
   "authorship_tag": "ABX9TyNQ6UZA0agH0S3DB1rcfUg9",
   "mount_file_id": "18Ytu8vf-pPxS_JJEYz7E2vn7TZNtSEcQ",
   "name": "custom_malaria_yolov4_image_nms.ipynb",
   "provenance": []
  },
  "kernelspec": {
   "display_name": "Python 3 (ipykernel)",
   "language": "python",
   "name": "python3"
  },
  "language_info": {
   "codemirror_mode": {
    "name": "ipython",
    "version": 3
   },
   "file_extension": ".py",
   "mimetype": "text/x-python",
   "name": "python",
   "nbconvert_exporter": "python",
   "pygments_lexer": "ipython3",
   "version": "3.9.7"
  }
 },
 "nbformat": 4,
 "nbformat_minor": 1
}
